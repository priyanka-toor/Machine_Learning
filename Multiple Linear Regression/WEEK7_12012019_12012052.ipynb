{
 "cells": [
  {
   "cell_type": "code",
   "execution_count": 3,
   "id": "7acf77e4",
   "metadata": {},
   "outputs": [
    {
     "name": "stdout",
     "output_type": "stream",
     "text": [
      "                            OLS Regression Results                            \n",
      "==============================================================================\n",
      "Dep. Variable:              acad perf   R-squared:                       1.000\n",
      "Model:                            OLS   Adj. R-squared:                  1.000\n",
      "Method:                 Least Squares   F-statistic:                 6.638e+29\n",
      "Date:                Mon, 25 Sep 2023   Prob (F-statistic):          2.09e-304\n",
      "Time:                        08:59:33   Log-Likelihood:                 743.95\n",
      "No. Observations:                  25   AIC:                            -1480.\n",
      "Df Residuals:                      21   BIC:                            -1475.\n",
      "Df Model:                           3                                         \n",
      "Covariance Type:            nonrobust                                         \n",
      "==============================================================================\n",
      "                 coef    std err          t      P>|t|      [0.025      0.975]\n",
      "------------------------------------------------------------------------------\n",
      "const      -4.263e-14   1.04e-13     -0.409      0.687    -2.6e-13    1.74e-13\n",
      "Marks          1.0000   1.79e-15   5.58e+14      0.000       1.000       1.000\n",
      "projects       1.0000   5.96e-15   1.68e+14      0.000       1.000       1.000\n",
      "Package    -4.441e-16   3.95e-15     -0.112      0.911   -8.65e-15    7.77e-15\n",
      "==============================================================================\n",
      "Omnibus:                        1.387   Durbin-Watson:                   0.136\n",
      "Prob(Omnibus):                  0.500   Jarque-Bera (JB):                0.340\n",
      "Skew:                           0.044   Prob(JB):                        0.844\n",
      "Kurtosis:                       3.565   Cond. No.                     1.39e+03\n",
      "==============================================================================\n",
      "\n",
      "Notes:\n",
      "[1] Standard Errors assume that the covariance matrix of the errors is correctly specified.\n",
      "[2] The condition number is large, 1.39e+03. This might indicate that there are\n",
      "strong multicollinearity or other numerical problems.\n"
     ]
    }
   ],
   "source": [
    "import pandas as pd\n",
    "import matplotlib.pyplot as plt\n",
    "from sklearn.model_selection import train_test_split\n",
    "import statsmodels.api as sm\n",
    "\n",
    "data = pd.read_excel('stud1.xlsx')\n",
    "\n",
    "X_features = data[['Marks','projects','Package']]\n",
    "Y_features = data['acad perf']\n",
    "\n",
    "X_features = sm.add_constant(X_features)\n",
    "\n",
    "train_X, test_X, train_Y, test_Y = train_test_split(X_features , Y_features,\n",
    "train_size = 0.8, random_state = 42 )\n",
    "\n",
    "model = sm.OLS(train_Y, train_X).fit()\n",
    "\n",
    "print(model.summary())\n",
    "\n"
   ]
  },
  {
   "cell_type": "code",
   "execution_count": 5,
   "id": "e4b53f58",
   "metadata": {},
   "outputs": [
    {
     "data": {
      "text/html": [
       "<div>\n",
       "<style scoped>\n",
       "    .dataframe tbody tr th:only-of-type {\n",
       "        vertical-align: middle;\n",
       "    }\n",
       "\n",
       "    .dataframe tbody tr th {\n",
       "        vertical-align: top;\n",
       "    }\n",
       "\n",
       "    .dataframe thead th {\n",
       "        text-align: right;\n",
       "    }\n",
       "</style>\n",
       "<table border=\"1\" class=\"dataframe\">\n",
       "  <thead>\n",
       "    <tr style=\"text-align: right;\">\n",
       "      <th></th>\n",
       "      <th>Features</th>\n",
       "      <th>VIF</th>\n",
       "    </tr>\n",
       "  </thead>\n",
       "  <tbody>\n",
       "    <tr>\n",
       "      <th>0</th>\n",
       "      <td>const</td>\n",
       "      <td>254.397143</td>\n",
       "    </tr>\n",
       "    <tr>\n",
       "      <th>1</th>\n",
       "      <td>Marks</td>\n",
       "      <td>4.668213</td>\n",
       "    </tr>\n",
       "    <tr>\n",
       "      <th>2</th>\n",
       "      <td>projects</td>\n",
       "      <td>1.188994</td>\n",
       "    </tr>\n",
       "    <tr>\n",
       "      <th>3</th>\n",
       "      <td>Package</td>\n",
       "      <td>4.905887</td>\n",
       "    </tr>\n",
       "  </tbody>\n",
       "</table>\n",
       "</div>"
      ],
      "text/plain": [
       "   Features         VIF\n",
       "0     const  254.397143\n",
       "1     Marks    4.668213\n",
       "2  projects    1.188994\n",
       "3   Package    4.905887"
      ]
     },
     "execution_count": 5,
     "metadata": {},
     "output_type": "execute_result"
    }
   ],
   "source": [
    "from statsmodels.stats.outliers_influence import variance_inflation_factor\n",
    "\n",
    "def calc_vif(X_features):\n",
    "    vif = pd.DataFrame()\n",
    "    vif[\"Features\"] = X_features.columns\n",
    "    vif[\"VIF\"] = [variance_inflation_factor(X_features.values, i) for i in range(X_features.shape[1])]\n",
    "    return(vif)\n",
    "\n",
    "vif_factors = calc_vif(X_features)\n",
    "vif_factors"
   ]
  },
  {
   "cell_type": "code",
   "execution_count": 6,
   "id": "3f6eda95",
   "metadata": {},
   "outputs": [
    {
     "data": {
      "text/plain": [
       "<Axes: >"
      ]
     },
     "execution_count": 6,
     "metadata": {},
     "output_type": "execute_result"
    },
    {
     "data": {
      "image/png": "[encoded data removed]",
      "text/plain": [
       "<Figure size 640x480 with 2 Axes>"
      ]
     },
     "metadata": {},
     "output_type": "display_data"
    }
   ],
   "source": [
    "import seaborn as sn\n",
    "columns_with_large_vif = vif_factors[vif_factors.VIF >1].Features\n",
    "# print(\"\\n\\nColumns with large VIF: \", columns_with_large_vif)\n",
    "sn.heatmap(X_features[columns_with_large_vif].corr(), annot=True)"
   ]
  },
  {
   "cell_type": "code",
   "execution_count": 7,
   "id": "36855ae5",
   "metadata": {},
   "outputs": [
    {
     "data": {
      "text/html": [
       "<div>\n",
       "<style scoped>\n",
       "    .dataframe tbody tr th:only-of-type {\n",
       "        vertical-align: middle;\n",
       "    }\n",
       "\n",
       "    .dataframe tbody tr th {\n",
       "        vertical-align: top;\n",
       "    }\n",
       "\n",
       "    .dataframe thead th {\n",
       "        text-align: right;\n",
       "    }\n",
       "</style>\n",
       "<table border=\"1\" class=\"dataframe\">\n",
       "  <thead>\n",
       "    <tr style=\"text-align: right;\">\n",
       "      <th></th>\n",
       "      <th>Features</th>\n",
       "      <th>VIF</th>\n",
       "    </tr>\n",
       "  </thead>\n",
       "  <tbody>\n",
       "    <tr>\n",
       "      <th>0</th>\n",
       "      <td>projects</td>\n",
       "      <td>1.000927</td>\n",
       "    </tr>\n",
       "    <tr>\n",
       "      <th>1</th>\n",
       "      <td>const</td>\n",
       "      <td>100.124037</td>\n",
       "    </tr>\n",
       "    <tr>\n",
       "      <th>2</th>\n",
       "      <td>Marks</td>\n",
       "      <td>1.000927</td>\n",
       "    </tr>\n",
       "  </tbody>\n",
       "</table>\n",
       "</div>"
      ],
      "text/plain": [
       "   Features         VIF\n",
       "0  projects    1.000927\n",
       "1     const  100.124037\n",
       "2     Marks    1.000927"
      ]
     },
     "execution_count": 7,
     "metadata": {},
     "output_type": "execute_result"
    }
   ],
   "source": [
    "columns_to_be_removed = ['Package']\n",
    "X_new_features = list(set(X_features) - set(columns_to_be_removed))\n",
    "calc_vif(X_features[X_new_features])"
   ]
  },
  {
   "cell_type": "code",
   "execution_count": 9,
   "id": "be6f9ad4",
   "metadata": {},
   "outputs": [
    {
     "data": {
      "text/html": [
       "<table class=\"simpletable\">\n",
       "<caption>OLS Regression Results</caption>\n",
       "<tr>\n",
       "  <th>Dep. Variable:</th>        <td>acad perf</td>    <th>  R-squared:         </th> <td>   1.000</td> \n",
       "</tr>\n",
       "<tr>\n",
       "  <th>Model:</th>                   <td>OLS</td>       <th>  Adj. R-squared:    </th> <td>   1.000</td> \n",
       "</tr>\n",
       "<tr>\n",
       "  <th>Method:</th>             <td>Least Squares</td>  <th>  F-statistic:       </th> <td>2.528e+31</td>\n",
       "</tr>\n",
       "<tr>\n",
       "  <th>Date:</th>             <td>Mon, 25 Sep 2023</td> <th>  Prob (F-statistic):</th>  <td>  0.00</td>  \n",
       "</tr>\n",
       "<tr>\n",
       "  <th>Time:</th>                 <td>09:08:15</td>     <th>  Log-Likelihood:    </th> <td>  783.80</td> \n",
       "</tr>\n",
       "<tr>\n",
       "  <th>No. Observations:</th>      <td>    25</td>      <th>  AIC:               </th> <td>  -1562.</td> \n",
       "</tr>\n",
       "<tr>\n",
       "  <th>Df Residuals:</th>          <td>    22</td>      <th>  BIC:               </th> <td>  -1558.</td> \n",
       "</tr>\n",
       "<tr>\n",
       "  <th>Df Model:</th>              <td>     2</td>      <th>                     </th>     <td> </td>    \n",
       "</tr>\n",
       "<tr>\n",
       "  <th>Covariance Type:</th>      <td>nonrobust</td>    <th>                     </th>     <td> </td>    \n",
       "</tr>\n",
       "</table>\n",
       "<table class=\"simpletable\">\n",
       "<tr>\n",
       "      <td></td>        <th>coef</th>     <th>std err</th>      <th>t</th>      <th>P>|t|</th>  <th>[0.025</th>    <th>0.975]</th>  \n",
       "</tr>\n",
       "<tr>\n",
       "  <th>const</th>    <td> 1.776e-15</td> <td> 1.21e-14</td> <td>    0.147</td> <td> 0.884</td> <td>-2.33e-14</td> <td> 2.68e-14</td>\n",
       "</tr>\n",
       "<tr>\n",
       "  <th>Marks</th>    <td>    1.0000</td> <td> 1.49e-16</td> <td> 6.69e+15</td> <td> 0.000</td> <td>    1.000</td> <td>    1.000</td>\n",
       "</tr>\n",
       "<tr>\n",
       "  <th>projects</th> <td>    1.0000</td> <td> 1.17e-15</td> <td> 8.51e+14</td> <td> 0.000</td> <td>    1.000</td> <td>    1.000</td>\n",
       "</tr>\n",
       "</table>\n",
       "<table class=\"simpletable\">\n",
       "<tr>\n",
       "  <th>Omnibus:</th>       <td> 6.316</td> <th>  Durbin-Watson:     </th> <td>   1.765</td>\n",
       "</tr>\n",
       "<tr>\n",
       "  <th>Prob(Omnibus):</th> <td> 0.043</td> <th>  Jarque-Bera (JB):  </th> <td>   7.336</td>\n",
       "</tr>\n",
       "<tr>\n",
       "  <th>Skew:</th>          <td>-0.074</td> <th>  Prob(JB):          </th> <td>  0.0255</td>\n",
       "</tr>\n",
       "<tr>\n",
       "  <th>Kurtosis:</th>      <td> 5.650</td> <th>  Cond. No.          </th> <td>    803.</td>\n",
       "</tr>\n",
       "</table><br/><br/>Notes:<br/>[1] Standard Errors assume that the covariance matrix of the errors is correctly specified."
      ],
      "text/plain": [
       "<class 'statsmodels.iolib.summary.Summary'>\n",
       "\"\"\"\n",
       "                            OLS Regression Results                            \n",
       "==============================================================================\n",
       "Dep. Variable:              acad perf   R-squared:                       1.000\n",
       "Model:                            OLS   Adj. R-squared:                  1.000\n",
       "Method:                 Least Squares   F-statistic:                 2.528e+31\n",
       "Date:                Mon, 25 Sep 2023   Prob (F-statistic):               0.00\n",
       "Time:                        09:08:15   Log-Likelihood:                 783.80\n",
       "No. Observations:                  25   AIC:                            -1562.\n",
       "Df Residuals:                      22   BIC:                            -1558.\n",
       "Df Model:                           2                                         \n",
       "Covariance Type:            nonrobust                                         \n",
       "==============================================================================\n",
       "                 coef    std err          t      P>|t|      [0.025      0.975]\n",
       "------------------------------------------------------------------------------\n",
       "const       1.776e-15   1.21e-14      0.147      0.884   -2.33e-14    2.68e-14\n",
       "Marks          1.0000   1.49e-16   6.69e+15      0.000       1.000       1.000\n",
       "projects       1.0000   1.17e-15   8.51e+14      0.000       1.000       1.000\n",
       "==============================================================================\n",
       "Omnibus:                        6.316   Durbin-Watson:                   1.765\n",
       "Prob(Omnibus):                  0.043   Jarque-Bera (JB):                7.336\n",
       "Skew:                          -0.074   Prob(JB):                       0.0255\n",
       "Kurtosis:                       5.650   Cond. No.                         803.\n",
       "==============================================================================\n",
       "\n",
       "Notes:\n",
       "[1] Standard Errors assume that the covariance matrix of the errors is correctly specified.\n",
       "\"\"\""
      ]
     },
     "execution_count": 9,
     "metadata": {},
     "output_type": "execute_result"
    }
   ],
   "source": [
    "X_features = X_features.drop(columns_to_be_removed, axis=1)\n",
    "train_X, test_X, train_Y, test_Y = train_test_split(X_features,Y_features,train_size=0.8, random_state=42)\n",
    "model_2 = sm.OLS(train_Y, train_X).fit()\n",
    "model_2.summary()\n"
   ]
  },
  {
   "cell_type": "code",
   "execution_count": 10,
   "id": "4a377444",
   "metadata": {},
   "outputs": [
    {
     "name": "stdout",
     "output_type": "stream",
     "text": [
      "levarage outliers : \n",
      "\n"
     ]
    }
   ],
   "source": [
    "import numpy as np\n",
    "\n",
    "leverage_threshold = 3 * (len(train_X.columns) + 1) / len(train_X)\n",
    "influence = model_2.get_influence()\n",
    "\n",
    "# finding levarage values\n",
    "leverage = influence.hat_matrix_diag\n",
    "leverage_outliers = np.where(leverage >  leverage_threshold)[0]\n",
    "\n",
    "\n",
    "# Printing outlier values using leverage\n",
    "print(\"levarage outliers : \\n\")\n",
    "for item in leverage_outliers :\n",
    "    print(\"Value is :\\n\", train_X.iloc[item])\n",
    "    print(\"\\nLevarage value : \", leverage[item])"
   ]
  },
  {
   "cell_type": "code",
   "execution_count": 12,
   "id": "7973278c",
   "metadata": {},
   "outputs": [
    {
     "data": {
      "image/png": "[encoded data removed]",
      "text/plain": [
       "<Figure size 640x480 with 1 Axes>"
      ]
     },
     "metadata": {},
     "output_type": "display_data"
    }
   ],
   "source": [
    "#There are no leverage outliers hence there is no need to retrain our model\n",
    "\n",
    "#Residual Plot\n",
    "get_standardized_values = lambda x : (x - np.mean(x))/(np.std(x))\n",
    "def plot_resid_fitted(fitted, resid, title):\n",
    "    plt.scatter ( get_standardized_values( fitted ),get_standardized_values( resid ) )\n",
    "    plt.title(title)\n",
    "    plt.xlabel(\"Standardized predicted values\")\n",
    "    plt.ylabel(\"Standardized residual values\")\n",
    "    plt.show()\n",
    "\n",
    "plot_resid_fitted(model_2.fittedvalues,model_2.resid,\"Residual Plot\")"
   ]
  },
  {
   "cell_type": "code",
   "execution_count": null,
   "id": "7e3ab1af",
   "metadata": {},
   "outputs": [],
   "source": []
  },
  {
   "cell_type": "code",
   "execution_count": null,
   "id": "a5813ae3",
   "metadata": {},
   "outputs": [],
   "source": []
  }
 ],
 "metadata": {
  "kernelspec": {
   "display_name": "Python 3 (ipykernel)",
   "language": "python",
   "name": "python3"
  },
  "language_info": {
   "codemirror_mode": {
    "name": "ipython",
    "version": 3
   },
   "file_extension": ".py",
   "mimetype": "text/x-python",
   "name": "python",
   "nbconvert_exporter": "python",
   "pygments_lexer": "ipython3",
   "version": "3.11.3"
  }
 },
 "nbformat": 4,
 "nbformat_minor": 5
}
