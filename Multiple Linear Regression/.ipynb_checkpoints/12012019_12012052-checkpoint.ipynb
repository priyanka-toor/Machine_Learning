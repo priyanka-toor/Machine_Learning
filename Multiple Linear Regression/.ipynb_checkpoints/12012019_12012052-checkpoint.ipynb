{
 "cells": [
  {
   "cell_type": "code",
   "execution_count": 1,
   "id": "f737877e",
   "metadata": {},
   "outputs": [
    {
     "name": "stdout",
     "output_type": "stream",
     "text": [
      "<class 'pandas.core.frame.DataFrame'>\n",
      "RangeIndex: 32 entries, 0 to 31\n",
      "Data columns (total 4 columns):\n",
      " #   Column     Non-Null Count  Dtype  \n",
      "---  ------     --------------  -----  \n",
      " 0   Marks      32 non-null     int64  \n",
      " 1   projects   32 non-null     int64  \n",
      " 2   Package    32 non-null     float64\n",
      " 3   acad perf  32 non-null     int64  \n",
      "dtypes: float64(1), int64(3)\n",
      "memory usage: 1.1 KB\n"
     ]
    }
   ],
   "source": [
    "import pandas as pd\n",
    "data=pd.read_excel('stud1.xlsx')\n",
    "data.info()"
   ]
  },
  {
   "cell_type": "code",
   "execution_count": 2,
   "id": "48e4af0e",
   "metadata": {},
   "outputs": [],
   "source": [
    "import numpy as np\n",
    "import statsmodels.api as sm\n",
    "from sklearn.model_selection import train_test_split\n",
    "X_features=data[['Marks','projects','Package']]\n",
    "X=sm.add_constant(X_features)\n",
    "Y=data['acad perf']\n",
    "train_X, test_X, train_y, test_y = train_test_split(X ,Y,train_size = 0.8,random_state = 42 )"
   ]
  },
  {
   "cell_type": "code",
   "execution_count": 3,
   "id": "a57fb713",
   "metadata": {},
   "outputs": [
    {
     "data": {
      "text/html": [
       "<table class=\"simpletable\">\n",
       "<tr>\n",
       "        <td>Model:</td>               <td>OLS</td>         <td>Adj. R-squared:</td>      <td>1.000</td>  \n",
       "</tr>\n",
       "<tr>\n",
       "  <td>Dependent Variable:</td>     <td>acad perf</td>           <td>AIC:</td>         <td>-1479.8953</td>\n",
       "</tr>\n",
       "<tr>\n",
       "         <td>Date:</td>        <td>2023-09-20 11:04</td>        <td>BIC:</td>         <td>-1475.0198</td>\n",
       "</tr>\n",
       "<tr>\n",
       "   <td>No. Observations:</td>         <td>25</td>          <td>Log-Likelihood:</td>     <td>743.95</td>  \n",
       "</tr>\n",
       "<tr>\n",
       "       <td>Df Model:</td>              <td>3</td>           <td>F-statistic:</td>      <td>6.638e+29</td>\n",
       "</tr>\n",
       "<tr>\n",
       "     <td>Df Residuals:</td>           <td>21</td>        <td>Prob (F-statistic):</td>  <td>2.09e-304</td>\n",
       "</tr>\n",
       "<tr>\n",
       "      <td>R-squared:</td>            <td>1.000</td>            <td>Scale:</td>        <td>9.9051e-28</td>\n",
       "</tr>\n",
       "</table>\n",
       "<table class=\"simpletable\">\n",
       "<tr>\n",
       "      <td></td>      <th>Coef.</th>  <th>Std.Err.</th>           <th>t</th>           <th>P>|t|</th> <th>[0.025</th>  <th>0.975]</th>\n",
       "</tr>\n",
       "<tr>\n",
       "  <th>const</th>    <td>-0.0000</td>  <td>0.0000</td>         <td>-0.4088</td>       <td>0.6868</td> <td>-0.0000</td> <td>0.0000</td>\n",
       "</tr>\n",
       "<tr>\n",
       "  <th>Marks</th>    <td>1.0000</td>   <td>0.0000</td>  <td>557965765739895.1875</td> <td>0.0000</td> <td>1.0000</td>  <td>1.0000</td>\n",
       "</tr>\n",
       "<tr>\n",
       "  <th>projects</th> <td>1.0000</td>   <td>0.0000</td>  <td>167834484666012.9375</td> <td>0.0000</td> <td>1.0000</td>  <td>1.0000</td>\n",
       "</tr>\n",
       "<tr>\n",
       "  <th>Package</th>  <td>-0.0000</td>  <td>0.0000</td>         <td>-0.1125</td>       <td>0.9115</td> <td>-0.0000</td> <td>0.0000</td>\n",
       "</tr>\n",
       "</table>\n",
       "<table class=\"simpletable\">\n",
       "<tr>\n",
       "     <td>Omnibus:</td>    <td>1.387</td>  <td>Durbin-Watson:</td>   <td>0.136</td>\n",
       "</tr>\n",
       "<tr>\n",
       "  <td>Prob(Omnibus):</td> <td>0.500</td> <td>Jarque-Bera (JB):</td> <td>0.340</td>\n",
       "</tr>\n",
       "<tr>\n",
       "       <td>Skew:</td>     <td>0.044</td>     <td>Prob(JB):</td>     <td>0.844</td>\n",
       "</tr>\n",
       "<tr>\n",
       "     <td>Kurtosis:</td>   <td>3.565</td>  <td>Condition No.:</td>   <td>1393</td> \n",
       "</tr>\n",
       "</table>"
      ],
      "text/plain": [
       "<class 'statsmodels.iolib.summary2.Summary'>\n",
       "\"\"\"\n",
       "                  Results: Ordinary least squares\n",
       "====================================================================\n",
       "Model:               OLS              Adj. R-squared:     1.000     \n",
       "Dependent Variable:  acad perf        AIC:                -1479.8953\n",
       "Date:                2023-09-20 11:04 BIC:                -1475.0198\n",
       "No. Observations:    25               Log-Likelihood:     743.95    \n",
       "Df Model:            3                F-statistic:        6.638e+29 \n",
       "Df Residuals:        21               Prob (F-statistic): 2.09e-304 \n",
       "R-squared:           1.000            Scale:              9.9051e-28\n",
       "--------------------------------------------------------------------\n",
       "          Coef.  Std.Err.          t           P>|t|   [0.025 0.975]\n",
       "--------------------------------------------------------------------\n",
       "const    -0.0000   0.0000              -0.4088 0.6868 -0.0000 0.0000\n",
       "Marks     1.0000   0.0000 557965765739895.1875 0.0000  1.0000 1.0000\n",
       "projects  1.0000   0.0000 167834484666012.9375 0.0000  1.0000 1.0000\n",
       "Package  -0.0000   0.0000              -0.1125 0.9115 -0.0000 0.0000\n",
       "--------------------------------------------------------------------\n",
       "Omnibus:               1.387         Durbin-Watson:            0.136\n",
       "Prob(Omnibus):         0.500         Jarque-Bera (JB):         0.340\n",
       "Skew:                  0.044         Prob(JB):                 0.844\n",
       "Kurtosis:              3.565         Condition No.:            1393 \n",
       "====================================================================\n",
       "* The condition number is large (1e+03). This might indicate\n",
       "strong multicollinearity or other numerical problems.\n",
       "\"\"\""
      ]
     },
     "execution_count": 3,
     "metadata": {},
     "output_type": "execute_result"
    }
   ],
   "source": [
    "data_lm=sm.OLS(train_y, train_X).fit() \n",
    "data_lm.summary2()"
   ]
  },
  {
   "cell_type": "code",
   "execution_count": 4,
   "id": "3eb21ae0",
   "metadata": {},
   "outputs": [
    {
     "name": "stdout",
     "output_type": "stream",
     "text": [
      "   Variable        VIF\n",
      "0     Marks  22.491161\n",
      "1  projects   3.818441\n",
      "2   Package  22.264516\n"
     ]
    }
   ],
   "source": [
    "from statsmodels.stats.outliers_influence import variance_inflation_factor\n",
    "vif = pd.DataFrame()\n",
    "vif[\"Variable\"] = X_features.columns\n",
    "vif[\"VIF\"] = [variance_inflation_factor(X_features.values, i) for i in range(X_features.shape[1])]\n",
    "\n",
    "print(vif)"
   ]
  },
  {
   "cell_type": "code",
   "execution_count": 5,
   "id": "bd909575",
   "metadata": {},
   "outputs": [
    {
     "data": {
      "image/png": "[encoded data removed]",
      "text/plain": [
       "<Figure size 800x600 with 2 Axes>"
      ]
     },
     "metadata": {},
     "output_type": "display_data"
    }
   ],
   "source": [
    "import seaborn as sns\n",
    "import matplotlib.pyplot as plt\n",
    "df = pd.DataFrame(data)\n",
    "high_vif_features = vif[vif[\"VIF\"] > 4][\"Variable\"]\n",
    "df_high_vif = df[high_vif_features]\n",
    "high_vif_corr_matrix = df_high_vif.corr()\n",
    "\n",
    "plt.figure(figsize=(8, 6))\n",
    "sns.heatmap(high_vif_corr_matrix, annot=True, cmap=\"coolwarm\", fmt=\".2f\", linewidths=0.5)\n",
    "plt.title(\"Correlation Heatmap for Features with VIF > 4\")\n",
    "plt.show()"
   ]
  },
  {
   "cell_type": "code",
   "execution_count": 7,
   "id": "3436e04c",
   "metadata": {},
   "outputs": [
    {
     "name": "stdout",
     "output_type": "stream",
     "text": [
      "    Variable       VIF\n",
      "0   projects  3.992659\n",
      "1  acad perf  3.992659\n"
     ]
    }
   ],
   "source": [
    "columns_to_be_removed = ['Marks', 'Package']\n",
    "\n",
    "# Create a new DataFrame with the desired features\n",
    "X_new_features = df.drop(columns=columns_to_be_removed)\n",
    "\n",
    "# Initialize a DataFrame to store VIF values\n",
    "vif = pd.DataFrame()\n",
    "vif[\"Variable\"] = X_new_features.columns\n",
    "vif[\"VIF\"] = [variance_inflation_factor(X_new_features.values, i) for i in range(X_new_features.shape[1])]\n",
    "\n",
    "print(vif)\n"
   ]
  },
  {
   "cell_type": "code",
   "execution_count": 8,
   "id": "70893a9c",
   "metadata": {},
   "outputs": [
    {
     "data": {
      "text/html": [
       "<table class=\"simpletable\">\n",
       "<tr>\n",
       "          <td>Model:</td>                 <td>OLS</td>       <td>Adj. R-squared (uncentered):</td>   <td>0.864</td> \n",
       "</tr>\n",
       "<tr>\n",
       "    <td>Dependent Variable:</td>       <td>acad perf</td>                <td>AIC:</td>             <td>244.4565</td>\n",
       "</tr>\n",
       "<tr>\n",
       "           <td>Date:</td>          <td>2023-09-19 12:58</td>             <td>BIC:</td>             <td>245.6754</td>\n",
       "</tr>\n",
       "<tr>\n",
       "     <td>No. Observations:</td>           <td>25</td>               <td>Log-Likelihood:</td>        <td>-121.23</td>\n",
       "</tr>\n",
       "<tr>\n",
       "         <td>Df Model:</td>                <td>1</td>                <td>F-statistic:</td>           <td>160.3</td> \n",
       "</tr>\n",
       "<tr>\n",
       "       <td>Df Residuals:</td>             <td>24</td>             <td>Prob (F-statistic):</td>     <td>4.08e-12</td>\n",
       "</tr>\n",
       "<tr>\n",
       "  <td>R-squared (uncentered):</td>       <td>0.870</td>                 <td>Scale:</td>             <td>993.47</td> \n",
       "</tr>\n",
       "</table>\n",
       "<table class=\"simpletable\">\n",
       "<tr>\n",
       "      <td></td>      <th>Coef.</th>  <th>Std.Err.</th>    <th>t</th>     <th>P>|t|</th> <th>[0.025</th>  <th>0.975]</th> \n",
       "</tr>\n",
       "<tr>\n",
       "  <th>projects</th> <td>27.9412</td>  <td>2.2068</td>  <td>12.6614</td> <td>0.0000</td> <td>23.3866</td> <td>32.4958</td>\n",
       "</tr>\n",
       "</table>\n",
       "<table class=\"simpletable\">\n",
       "<tr>\n",
       "     <td>Omnibus:</td>     <td>2.520</td>  <td>Durbin-Watson:</td>   <td>1.098</td>\n",
       "</tr>\n",
       "<tr>\n",
       "  <td>Prob(Omnibus):</td>  <td>0.284</td> <td>Jarque-Bera (JB):</td> <td>2.132</td>\n",
       "</tr>\n",
       "<tr>\n",
       "       <td>Skew:</td>     <td>-0.617</td>     <td>Prob(JB):</td>     <td>0.344</td>\n",
       "</tr>\n",
       "<tr>\n",
       "     <td>Kurtosis:</td>    <td>2.275</td>  <td>Condition No.:</td>     <td>1</td>  \n",
       "</tr>\n",
       "</table>"
      ],
      "text/plain": [
       "<class 'statsmodels.iolib.summary2.Summary'>\n",
       "\"\"\"\n",
       "                       Results: Ordinary least squares\n",
       "==============================================================================\n",
       "Model:                  OLS              Adj. R-squared (uncentered): 0.864   \n",
       "Dependent Variable:     acad perf        AIC:                         244.4565\n",
       "Date:                   2023-09-19 12:58 BIC:                         245.6754\n",
       "No. Observations:       25               Log-Likelihood:              -121.23 \n",
       "Df Model:               1                F-statistic:                 160.3   \n",
       "Df Residuals:           24               Prob (F-statistic):          4.08e-12\n",
       "R-squared (uncentered): 0.870            Scale:                       993.47  \n",
       "----------------------------------------------------------------------------------\n",
       "                Coef.      Std.Err.        t        P>|t|       [0.025      0.975]\n",
       "----------------------------------------------------------------------------------\n",
       "projects       27.9412       2.2068     12.6614     0.0000     23.3866     32.4958\n",
       "------------------------------------------------------------------------------\n",
       "Omnibus:                  2.520             Durbin-Watson:               1.098\n",
       "Prob(Omnibus):            0.284             Jarque-Bera (JB):            2.132\n",
       "Skew:                     -0.617            Prob(JB):                    0.344\n",
       "Kurtosis:                 2.275             Condition No.:               1    \n",
       "==============================================================================\n",
       "\n",
       "\"\"\""
      ]
     },
     "execution_count": 8,
     "metadata": {},
     "output_type": "execute_result"
    }
   ],
   "source": [
    "X_new_feature = list( set(X_features) - set(columns_to_be_removed))\n",
    "train_X = train_X[X_new_feature]\n",
    "data_lm2=sm.OLS(train_y, train_X).fit() \n",
    "data_lm2.summary2()"
   ]
  },
  {
   "cell_type": "code",
   "execution_count": null,
   "id": "f52345bb",
   "metadata": {},
   "outputs": [],
   "source": [
    "from sklearn.linear_model import LinearRegression\n",
    "leverage_threshold = 3 * (len(train_X.columns) + 1) / len(train_X)\n",
    "influence = data_lm2.get_influence()\n",
    "leverage = influence.hat_matrix_diag\n",
    "leverage_outliers = np.where(leverage >  leverage_threshold)[0]\n",
    "\n",
    "\n",
    "# Printing outlier values using leverage\n",
    "print(\"levarage outliers : \\n\")\n",
    "for item in leverage_outliers :\n",
    "    print(\"Value is :\\n\", train_X.iloc[item])\n",
    "    print(\"\\nLevarage value : \", leverage[item])"
   ]
  },
  {
   "cell_type": "code",
   "execution_count": 10,
   "id": "f216a12a",
   "metadata": {},
   "outputs": [
    {
     "data": {
      "text/plain": [
       "<Figure size 800x600 with 0 Axes>"
      ]
     },
     "metadata": {},
     "output_type": "display_data"
    },
    {
     "data": {
      "image/png": "[encoded data removed]",
      "text/plain": [
       "<Figure size 640x480 with 1 Axes>"
      ]
     },
     "metadata": {},
     "output_type": "display_data"
    }
   ],
   "source": [
    "def draw_pp_plot( model, title ):\n",
    "    probplot = sm.ProbPlot( model.resid );\n",
    "    plt.figure( figsize = (8, 6) );\n",
    "    probplot.ppplot( line='45' );\n",
    "    plt.title( title );\n",
    "plt.show();\n",
    "draw_pp_plot(data_lm2,\"Normal P-P Plot of Regression Standardized Residuals\");"
   ]
  },
  {
   "cell_type": "code",
   "execution_count": null,
   "id": "36319858",
   "metadata": {},
   "outputs": [],
   "source": []
  },
  {
   "cell_type": "code",
   "execution_count": null,
   "id": "87c29cfc",
   "metadata": {},
   "outputs": [],
   "source": []
  }
 ],
 "metadata": {
  "kernelspec": {
   "display_name": "Python 3 (ipykernel)",
   "language": "python",
   "name": "python3"
  },
  "language_info": {
   "codemirror_mode": {
    "name": "ipython",
    "version": 3
   },
   "file_extension": ".py",
   "mimetype": "text/x-python",
   "name": "python",
   "nbconvert_exporter": "python",
   "pygments_lexer": "ipython3",
   "version": "3.11.3"
  }
 },
 "nbformat": 4,
 "nbformat_minor": 5
}
