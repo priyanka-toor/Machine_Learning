{
 "cells": [
  {
   "cell_type": "code",
   "execution_count": 2,
   "id": "88490e7a",
   "metadata": {},
   "outputs": [
    {
     "name": "stdout",
     "output_type": "stream",
     "text": [
      "<class 'pandas.core.frame.DataFrame'>\n",
      "RangeIndex: 35 entries, 0 to 34\n",
      "Data columns (total 2 columns):\n",
      " #   Column        Non-Null Count  Dtype  \n",
      "---  ------        --------------  -----  \n",
      " 0   fashion_prod  35 non-null     float64\n",
      " 1   Savings       35 non-null     float64\n",
      "dtypes: float64(2)\n",
      "memory usage: 692.0 bytes\n"
     ]
    }
   ],
   "source": [
    "import pandas as pd\n",
    "import numpy as np\n",
    "data=pd.read_excel('cust_2.xlsx')\n",
    "data.info()"
   ]
  },
  {
   "cell_type": "code",
   "execution_count": 4,
   "id": "889559dd",
   "metadata": {},
   "outputs": [
    {
     "data": {
      "text/html": [
       "<div>\n",
       "<style scoped>\n",
       "    .dataframe tbody tr th:only-of-type {\n",
       "        vertical-align: middle;\n",
       "    }\n",
       "\n",
       "    .dataframe tbody tr th {\n",
       "        vertical-align: top;\n",
       "    }\n",
       "\n",
       "    .dataframe thead th {\n",
       "        text-align: right;\n",
       "    }\n",
       "</style>\n",
       "<table border=\"1\" class=\"dataframe\">\n",
       "  <thead>\n",
       "    <tr style=\"text-align: right;\">\n",
       "      <th></th>\n",
       "      <th>const</th>\n",
       "      <th>fashion_prod</th>\n",
       "    </tr>\n",
       "  </thead>\n",
       "  <tbody>\n",
       "    <tr>\n",
       "      <th>0</th>\n",
       "      <td>1.0</td>\n",
       "      <td>9.10</td>\n",
       "    </tr>\n",
       "    <tr>\n",
       "      <th>1</th>\n",
       "      <td>1.0</td>\n",
       "      <td>0.23</td>\n",
       "    </tr>\n",
       "    <tr>\n",
       "      <th>2</th>\n",
       "      <td>1.0</td>\n",
       "      <td>1.92</td>\n",
       "    </tr>\n",
       "    <tr>\n",
       "      <th>3</th>\n",
       "      <td>1.0</td>\n",
       "      <td>18.20</td>\n",
       "    </tr>\n",
       "    <tr>\n",
       "      <th>4</th>\n",
       "      <td>1.0</td>\n",
       "      <td>0.10</td>\n",
       "    </tr>\n",
       "  </tbody>\n",
       "</table>\n",
       "</div>"
      ],
      "text/plain": [
       "   const  fashion_prod\n",
       "0    1.0          9.10\n",
       "1    1.0          0.23\n",
       "2    1.0          1.92\n",
       "3    1.0         18.20\n",
       "4    1.0          0.10"
      ]
     },
     "execution_count": 4,
     "metadata": {},
     "output_type": "execute_result"
    }
   ],
   "source": [
    "import statsmodels.api as sm\n",
    "X=sm.add_constant(data['fashion_prod'])\n",
    "X.head(5)"
   ]
  },
  {
   "cell_type": "code",
   "execution_count": 5,
   "id": "650d87ad",
   "metadata": {},
   "outputs": [
    {
     "name": "stdout",
     "output_type": "stream",
     "text": [
      "const          -8.720007\n",
      "fashion_prod    1.057888\n",
      "dtype: float64\n"
     ]
    }
   ],
   "source": [
    "Y=data['Savings']\n",
    "from sklearn.model_selection import train_test_split\n",
    "train_X, test_X, train_y, test_y = train_test_split( X,Y, train_size = 0.8, random_state = 100 )\n",
    "data_lm=sm.OLS(train_y,train_X).fit()\n",
    "print(data_lm.params)"
   ]
  },
  {
   "cell_type": "code",
   "execution_count": 6,
   "id": "a3b75913",
   "metadata": {},
   "outputs": [
    {
     "name": "stdout",
     "output_type": "stream",
     "text": [
      "R-squared: 0.41\n"
     ]
    }
   ],
   "source": [
    "from sklearn.linear_model import LinearRegression\n",
    "from sklearn.metrics import r2_score\n",
    "#model=LinearRegression()\n",
    "#model.fit(train_X, train_y)\n",
    "y_pred = data_lm.predict(test_X)\n",
    "\n",
    "r_squared = r2_score(test_y, y_pred)\n",
    "print(f'R-squared: {r_squared:.2f}')"
   ]
  },
  {
   "cell_type": "code",
   "execution_count": 6,
   "id": "ffa91547",
   "metadata": {},
   "outputs": [
    {
     "name": "stdout",
     "output_type": "stream",
     "text": [
      "Mean Squared Error (MSE): 12.81\n"
     ]
    }
   ],
   "source": [
    "from sklearn.metrics import mean_squared_error\n",
    "\n",
    "mse = mean_squared_error(test_y, y_pred)\n",
    "print(f'Mean Squared Error (MSE): {mse:.2f}')"
   ]
  },
  {
   "cell_type": "code",
   "execution_count": 7,
   "id": "598a9e53",
   "metadata": {},
   "outputs": [
    {
     "name": "stdout",
     "output_type": "stream",
     "text": [
      "0.5789086487921924\n"
     ]
    }
   ],
   "source": [
    "r_square = data_lm.rsquared\n",
    "print(r_square)\n"
   ]
  },
  {
   "cell_type": "code",
   "execution_count": 7,
   "id": "facec15e",
   "metadata": {},
   "outputs": [
    {
     "name": "stdout",
     "output_type": "stream",
     "text": [
      "Outliers detected by Z-score method:\n",
      "33    1.447168\n",
      "34    0.551959\n",
      "31    0.367836\n",
      "5     0.112977\n",
      "1     0.476831\n",
      "13    2.018068\n",
      "18    0.391168\n",
      "dtype: float64\n"
     ]
    }
   ],
   "source": [
    "from scipy import stats\n",
    "from scipy.stats import zscore\n",
    "# Calculate the Z-scores for the residuals\n",
    "residuals = test_y - y_pred\n",
    "z_scores = np.abs(stats.zscore(residuals))\n",
    "data['z_scores']=zscore(data.Savings)\n",
    "data[ (data.z_scores > 3.0) | (data.z_scores < -3.0) ]\n",
    "\n",
    "print(\"Outliers detected by Z-score method:\")\n",
    "print(z_scores)"
   ]
  },
  {
   "cell_type": "code",
   "execution_count": 9,
   "id": "6655d522",
   "metadata": {},
   "outputs": [
    {
     "name": "stdout",
     "output_type": "stream",
     "text": [
      "(array([5.88421142e-03, 3.96169533e-03, 1.35440500e-05, 2.37257425e-03,\n",
      "       2.74848461e-02, 4.14351200e-03, 8.17358319e-04, 1.46042259e-01,\n",
      "       7.75593256e-04, 6.42879434e-05, 1.37856192e-02, 1.38843987e-02,\n",
      "       5.62434522e-02, 5.51334266e-04, 4.65553078e-03, 2.03451531e-02,\n",
      "       4.22054630e-02, 4.81806548e-01, 6.39168110e-02, 3.05912467e-02,\n",
      "       3.81374413e-02, 2.47791884e-03, 1.14026769e-02, 3.67008052e-02,\n",
      "       2.21483825e-02, 4.78056853e-02, 9.57467602e-03, 6.16763829e-02]), array([0.99413439, 0.99604674, 0.99998646, 0.99763045, 0.97291765,\n",
      "       0.99586572, 0.999183  , 0.86482506, 0.99922473, 0.99993571,\n",
      "       0.98631617, 0.98621885, 0.94542366, 0.99944883, 0.99535612,\n",
      "       0.979876  , 0.95873833, 0.62307223, 0.93822996, 0.96990679,\n",
      "       0.96263438, 0.99752538, 0.98866703, 0.96401435, 0.97811353,\n",
      "       0.95340261, 0.99047451, 0.94032423]))\n"
     ]
    }
   ],
   "source": [
    "influence = data_lm.get_influence()\n",
    "cooks = influence.cooks_distance\n",
    "\n",
    "#display Cook's distances\n",
    "print(cooks)"
   ]
  },
  {
   "cell_type": "code",
   "execution_count": 8,
   "id": "9374b519",
   "metadata": {},
   "outputs": [
    {
     "name": "stdout",
     "output_type": "stream",
     "text": [
      "levarage outliers : \n",
      "\n"
     ]
    }
   ],
   "source": [
    "leverage_threshold = 3* (len(train_X.columns) + 1) / len(train_X)\n",
    "influence = data_lm.get_influence()\n",
    "\n",
    "# finding levarage values\n",
    "leverage = influence.hat_matrix_diag\n",
    "leverage_outliers = np.where(leverage >  leverage_threshold)[0]\n",
    "\n",
    "\n",
    "# Printing outlier values using leverage\n",
    "print(\"levarage outliers : \\n\")\n",
    "for item in leverage_outliers :\n",
    "    print(\"Value is :\\n\", train_X.iloc[item])\n",
    "    print(\"\\nLevarage value : \", leverage[item])"
   ]
  },
  {
   "cell_type": "code",
   "execution_count": 11,
   "id": "9a6b535c",
   "metadata": {},
   "outputs": [
    {
     "name": "stdout",
     "output_type": "stream",
     "text": [
      "The fashion_prod variable is significant.\n"
     ]
    }
   ],
   "source": [
    "p_value = data_lm.pvalues['fashion_prod']\n",
    "if p_value < 0.1:\n",
    "    print(\"The fashion_prod variable is significant.\")\n",
    "else:\n",
    "    print(\"The fashion_prod variable is not significant.\")"
   ]
  },
  {
   "cell_type": "code",
   "execution_count": 9,
   "id": "ba74b5c6",
   "metadata": {},
   "outputs": [
    {
     "data": {
      "text/plain": [
       "<Figure size 800x600 with 0 Axes>"
      ]
     },
     "metadata": {},
     "output_type": "display_data"
    },
    {
     "data": {
      "image/png": "[encoded data removed]",
      "text/plain": [
       "<Figure size 640x480 with 1 Axes>"
      ]
     },
     "metadata": {},
     "output_type": "display_data"
    }
   ],
   "source": [
    "import matplotlib.pyplot as plt\n",
    "import seaborn as sn\n",
    "data_resid=data_lm.resid\n",
    "probplot=sm.ProbPlot(data_resid)\n",
    "plt.figure(figsize=(8,6))\n",
    "probplot.ppplot(line='45')\n",
    "plt.title(\"Normal P-P plot\")\n",
    "plt.show()"
   ]
  },
  {
   "cell_type": "code",
   "execution_count": 33,
   "id": "ac9bb32b",
   "metadata": {},
   "outputs": [
    {
     "ename": "KeyError",
     "evalue": "'X'",
     "output_type": "error",
     "traceback": [
      "\u001b[1;31m---------------------------------------------------------------------------\u001b[0m",
      "\u001b[1;31mKeyError\u001b[0m                                  Traceback (most recent call last)",
      "File \u001b[1;32m~\\anaconda3\\Lib\\site-packages\\pandas\\core\\indexes\\base.py:3802\u001b[0m, in \u001b[0;36mIndex.get_loc\u001b[1;34m(self, key, method, tolerance)\u001b[0m\n\u001b[0;32m   3801\u001b[0m \u001b[38;5;28;01mtry\u001b[39;00m:\n\u001b[1;32m-> 3802\u001b[0m     \u001b[38;5;28;01mreturn\u001b[39;00m \u001b[38;5;28mself\u001b[39m\u001b[38;5;241m.\u001b[39m_engine\u001b[38;5;241m.\u001b[39mget_loc(casted_key)\n\u001b[0;32m   3803\u001b[0m \u001b[38;5;28;01mexcept\u001b[39;00m \u001b[38;5;167;01mKeyError\u001b[39;00m \u001b[38;5;28;01mas\u001b[39;00m err:\n",
      "File \u001b[1;32m~\\anaconda3\\Lib\\site-packages\\pandas\\_libs\\index.pyx:138\u001b[0m, in \u001b[0;36mpandas._libs.index.IndexEngine.get_loc\u001b[1;34m()\u001b[0m\n",
      "File \u001b[1;32m~\\anaconda3\\Lib\\site-packages\\pandas\\_libs\\index.pyx:165\u001b[0m, in \u001b[0;36mpandas._libs.index.IndexEngine.get_loc\u001b[1;34m()\u001b[0m\n",
      "File \u001b[1;32mpandas\\_libs\\hashtable_class_helper.pxi:5745\u001b[0m, in \u001b[0;36mpandas._libs.hashtable.PyObjectHashTable.get_item\u001b[1;34m()\u001b[0m\n",
      "File \u001b[1;32mpandas\\_libs\\hashtable_class_helper.pxi:5753\u001b[0m, in \u001b[0;36mpandas._libs.hashtable.PyObjectHashTable.get_item\u001b[1;34m()\u001b[0m\n",
      "\u001b[1;31mKeyError\u001b[0m: 'X'",
      "\nThe above exception was the direct cause of the following exception:\n",
      "\u001b[1;31mKeyError\u001b[0m                                  Traceback (most recent call last)",
      "Cell \u001b[1;32mIn[33], line 5\u001b[0m\n\u001b[0;32m      2\u001b[0m data_clean \u001b[38;5;241m=\u001b[39m data\u001b[38;5;241m.\u001b[39mdrop(index\u001b[38;5;241m=\u001b[39mleverage_outliers)\n\u001b[0;32m      4\u001b[0m \u001b[38;5;66;03m# Split the data into X and Y\u001b[39;00m\n\u001b[1;32m----> 5\u001b[0m X_clean \u001b[38;5;241m=\u001b[39m data_clean[\u001b[38;5;124m'\u001b[39m\u001b[38;5;124mX\u001b[39m\u001b[38;5;124m'\u001b[39m]\n\u001b[0;32m      6\u001b[0m Y_clean \u001b[38;5;241m=\u001b[39m data_clean[\u001b[38;5;124m'\u001b[39m\u001b[38;5;124mY\u001b[39m\u001b[38;5;124m'\u001b[39m]\n\u001b[0;32m      8\u001b[0m \u001b[38;5;66;03m# Fit a new simple linear regression model to the cleaned data\u001b[39;00m\n",
      "File \u001b[1;32m~\\anaconda3\\Lib\\site-packages\\pandas\\core\\frame.py:3807\u001b[0m, in \u001b[0;36mDataFrame.__getitem__\u001b[1;34m(self, key)\u001b[0m\n\u001b[0;32m   3805\u001b[0m \u001b[38;5;28;01mif\u001b[39;00m \u001b[38;5;28mself\u001b[39m\u001b[38;5;241m.\u001b[39mcolumns\u001b[38;5;241m.\u001b[39mnlevels \u001b[38;5;241m>\u001b[39m \u001b[38;5;241m1\u001b[39m:\n\u001b[0;32m   3806\u001b[0m     \u001b[38;5;28;01mreturn\u001b[39;00m \u001b[38;5;28mself\u001b[39m\u001b[38;5;241m.\u001b[39m_getitem_multilevel(key)\n\u001b[1;32m-> 3807\u001b[0m indexer \u001b[38;5;241m=\u001b[39m \u001b[38;5;28mself\u001b[39m\u001b[38;5;241m.\u001b[39mcolumns\u001b[38;5;241m.\u001b[39mget_loc(key)\n\u001b[0;32m   3808\u001b[0m \u001b[38;5;28;01mif\u001b[39;00m is_integer(indexer):\n\u001b[0;32m   3809\u001b[0m     indexer \u001b[38;5;241m=\u001b[39m [indexer]\n",
      "File \u001b[1;32m~\\anaconda3\\Lib\\site-packages\\pandas\\core\\indexes\\base.py:3804\u001b[0m, in \u001b[0;36mIndex.get_loc\u001b[1;34m(self, key, method, tolerance)\u001b[0m\n\u001b[0;32m   3802\u001b[0m     \u001b[38;5;28;01mreturn\u001b[39;00m \u001b[38;5;28mself\u001b[39m\u001b[38;5;241m.\u001b[39m_engine\u001b[38;5;241m.\u001b[39mget_loc(casted_key)\n\u001b[0;32m   3803\u001b[0m \u001b[38;5;28;01mexcept\u001b[39;00m \u001b[38;5;167;01mKeyError\u001b[39;00m \u001b[38;5;28;01mas\u001b[39;00m err:\n\u001b[1;32m-> 3804\u001b[0m     \u001b[38;5;28;01mraise\u001b[39;00m \u001b[38;5;167;01mKeyError\u001b[39;00m(key) \u001b[38;5;28;01mfrom\u001b[39;00m \u001b[38;5;21;01merr\u001b[39;00m\n\u001b[0;32m   3805\u001b[0m \u001b[38;5;28;01mexcept\u001b[39;00m \u001b[38;5;167;01mTypeError\u001b[39;00m:\n\u001b[0;32m   3806\u001b[0m     \u001b[38;5;66;03m# If we have a listlike key, _check_indexing_error will raise\u001b[39;00m\n\u001b[0;32m   3807\u001b[0m     \u001b[38;5;66;03m#  InvalidIndexError. Otherwise we fall through and re-raise\u001b[39;00m\n\u001b[0;32m   3808\u001b[0m     \u001b[38;5;66;03m#  the TypeError.\u001b[39;00m\n\u001b[0;32m   3809\u001b[0m     \u001b[38;5;28mself\u001b[39m\u001b[38;5;241m.\u001b[39m_check_indexing_error(key)\n",
      "\u001b[1;31mKeyError\u001b[0m: 'X'"
     ]
    }
   ],
   "source": [
    "train_X = train_X.drop(leverage_outliers)\n",
    "train_Y = train_Y.drop(leverage_outliers)\n",
    "\n",
    "model_3 = sm.OLS(train_Y, train_X).fit()\n",
    "model_3.summary()"
   ]
  },
  {
   "cell_type": "code",
   "execution_count": null,
   "id": "a68d3939",
   "metadata": {},
   "outputs": [],
   "source": []
  }
 ],
 "metadata": {
  "kernelspec": {
   "display_name": "Python 3 (ipykernel)",
   "language": "python",
   "name": "python3"
  },
  "language_info": {
   "codemirror_mode": {
    "name": "ipython",
    "version": 3
   },
   "file_extension": ".py",
   "mimetype": "text/x-python",
   "name": "python",
   "nbconvert_exporter": "python",
   "pygments_lexer": "ipython3",
   "version": "3.11.3"
  }
 },
 "nbformat": 4,
 "nbformat_minor": 5
}
