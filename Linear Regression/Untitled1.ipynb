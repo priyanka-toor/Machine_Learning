{
 "cells": [
  {
   "cell_type": "code",
   "execution_count": 1,
   "id": "72409383",
   "metadata": {},
   "outputs": [
    {
     "name": "stdout",
     "output_type": "stream",
     "text": [
      "<class 'pandas.core.frame.DataFrame'>\n",
      "RangeIndex: 35 entries, 0 to 34\n",
      "Data columns (total 2 columns):\n",
      " #   Column        Non-Null Count  Dtype  \n",
      "---  ------        --------------  -----  \n",
      " 0   fashion_prod  35 non-null     float64\n",
      " 1   Savings       35 non-null     float64\n",
      "dtypes: float64(2)\n",
      "memory usage: 692.0 bytes\n"
     ]
    }
   ],
   "source": [
    "import pandas as pd\n",
    "import numpy as np\n",
    "data=pd.read_excel('cust_2.xlsx')\n",
    "data.info()"
   ]
  },
  {
   "cell_type": "code",
   "execution_count": 3,
   "id": "98985010",
   "metadata": {},
   "outputs": [
    {
     "data": {
      "text/html": [
       "<div>\n",
       "<style scoped>\n",
       "    .dataframe tbody tr th:only-of-type {\n",
       "        vertical-align: middle;\n",
       "    }\n",
       "\n",
       "    .dataframe tbody tr th {\n",
       "        vertical-align: top;\n",
       "    }\n",
       "\n",
       "    .dataframe thead th {\n",
       "        text-align: right;\n",
       "    }\n",
       "</style>\n",
       "<table border=\"1\" class=\"dataframe\">\n",
       "  <thead>\n",
       "    <tr style=\"text-align: right;\">\n",
       "      <th></th>\n",
       "      <th>const</th>\n",
       "      <th>fashion_prod</th>\n",
       "    </tr>\n",
       "  </thead>\n",
       "  <tbody>\n",
       "    <tr>\n",
       "      <th>0</th>\n",
       "      <td>1.0</td>\n",
       "      <td>9.10</td>\n",
       "    </tr>\n",
       "    <tr>\n",
       "      <th>1</th>\n",
       "      <td>1.0</td>\n",
       "      <td>0.23</td>\n",
       "    </tr>\n",
       "    <tr>\n",
       "      <th>2</th>\n",
       "      <td>1.0</td>\n",
       "      <td>1.92</td>\n",
       "    </tr>\n",
       "    <tr>\n",
       "      <th>3</th>\n",
       "      <td>1.0</td>\n",
       "      <td>18.20</td>\n",
       "    </tr>\n",
       "    <tr>\n",
       "      <th>4</th>\n",
       "      <td>1.0</td>\n",
       "      <td>0.10</td>\n",
       "    </tr>\n",
       "  </tbody>\n",
       "</table>\n",
       "</div>"
      ],
      "text/plain": [
       "   const  fashion_prod\n",
       "0    1.0          9.10\n",
       "1    1.0          0.23\n",
       "2    1.0          1.92\n",
       "3    1.0         18.20\n",
       "4    1.0          0.10"
      ]
     },
     "execution_count": 3,
     "metadata": {},
     "output_type": "execute_result"
    }
   ],
   "source": [
    "import statsmodels.api as sm\n",
    "X=sm.add_constant(data['fashion_prod'])\n",
    "X.head(5)"
   ]
  },
  {
   "cell_type": "code",
   "execution_count": 6,
   "id": "1b1dc9a6",
   "metadata": {},
   "outputs": [],
   "source": [
    "Y=data['Savings']"
   ]
  },
  {
   "cell_type": "code",
   "execution_count": 7,
   "id": "b4c52d42",
   "metadata": {},
   "outputs": [],
   "source": [
    "\n",
    "from sklearn.model_selection import train_test_split\n",
    "train_X, test_X, train_y, test_y = train_test_split( X,Y, train_size = 0.8, random_state = 100 )\n"
   ]
  },
  {
   "cell_type": "code",
   "execution_count": 12,
   "id": "4a0ae063",
   "metadata": {},
   "outputs": [
    {
     "name": "stdout",
     "output_type": "stream",
     "text": [
      "const          -8.720007\n",
      "fashion_prod    1.057888\n",
      "dtype: float64\n"
     ]
    }
   ],
   "source": [
    "#fitting the model\n",
    "data_lm=sm.OLS(train_y,train_X).fit()\n",
    "print(data_lm.params)"
   ]
  },
  {
   "cell_type": "code",
   "execution_count": 21,
   "id": "616b0fbd",
   "metadata": {},
   "outputs": [
    {
     "name": "stdout",
     "output_type": "stream",
     "text": [
      "R-squared: 0.41\n"
     ]
    }
   ],
   "source": [
    "from sklearn.linear_model import LinearRegression\n",
    "import matplotlib.pyplot as plt\n",
    "from sklearn.metrics import r2_score\n",
    "model=LinearRegression()\n",
    "model.fit(train_X, train_y)\n",
    "y_pred = model.predict(test_X)\n",
    "\n",
    "r_squared = r2_score(test_y, y_pred)\n",
    "print(f'R-squared: {r_squared:.2f}')"
   ]
  },
  {
   "cell_type": "code",
   "execution_count": 22,
   "id": "eafb35bd",
   "metadata": {},
   "outputs": [
    {
     "name": "stdout",
     "output_type": "stream",
     "text": [
      "Mean Squared Error (MSE): 12.81\n"
     ]
    }
   ],
   "source": [
    "from sklearn.metrics import mean_squared_error\n",
    "\n",
    "mse = mean_squared_error(test_y, y_pred)\n",
    "\n",
    "print(f'Mean Squared Error (MSE): {mse:.2f}')\n"
   ]
  },
  {
   "cell_type": "code",
   "execution_count": 24,
   "id": "5e1d504e",
   "metadata": {},
   "outputs": [
    {
     "ename": "AttributeError",
     "evalue": "'DataFrame' object has no attribute 'z_score__y'",
     "output_type": "error",
     "traceback": [
      "\u001b[1;31m---------------------------------------------------------------------------\u001b[0m",
      "\u001b[1;31mAttributeError\u001b[0m                            Traceback (most recent call last)",
      "Cell \u001b[1;32mIn[24], line 3\u001b[0m\n\u001b[0;32m      1\u001b[0m \u001b[38;5;28;01mfrom\u001b[39;00m \u001b[38;5;21;01mscipy\u001b[39;00m\u001b[38;5;21;01m.\u001b[39;00m\u001b[38;5;21;01mstats\u001b[39;00m \u001b[38;5;28;01mimport\u001b[39;00m zscore\n\u001b[0;32m      2\u001b[0m data[\u001b[38;5;124m'\u001b[39m\u001b[38;5;124mz_score_y\u001b[39m\u001b[38;5;124m'\u001b[39m]\u001b[38;5;241m=\u001b[39mzscore(data\u001b[38;5;241m.\u001b[39mSavings)\n\u001b[1;32m----> 3\u001b[0m data[ (data\u001b[38;5;241m.\u001b[39mz_score_y \u001b[38;5;241m>\u001b[39m \u001b[38;5;241m3.0\u001b[39m) \u001b[38;5;241m|\u001b[39m (data\u001b[38;5;241m.\u001b[39mz_score__y \u001b[38;5;241m<\u001b[39m \u001b[38;5;241m-\u001b[39m\u001b[38;5;241m3.0\u001b[39m) ]\n",
      "File \u001b[1;32m~\\anaconda3\\Lib\\site-packages\\pandas\\core\\generic.py:5902\u001b[0m, in \u001b[0;36mNDFrame.__getattr__\u001b[1;34m(self, name)\u001b[0m\n\u001b[0;32m   5895\u001b[0m \u001b[38;5;28;01mif\u001b[39;00m (\n\u001b[0;32m   5896\u001b[0m     name \u001b[38;5;129;01mnot\u001b[39;00m \u001b[38;5;129;01min\u001b[39;00m \u001b[38;5;28mself\u001b[39m\u001b[38;5;241m.\u001b[39m_internal_names_set\n\u001b[0;32m   5897\u001b[0m     \u001b[38;5;129;01mand\u001b[39;00m name \u001b[38;5;129;01mnot\u001b[39;00m \u001b[38;5;129;01min\u001b[39;00m \u001b[38;5;28mself\u001b[39m\u001b[38;5;241m.\u001b[39m_metadata\n\u001b[0;32m   5898\u001b[0m     \u001b[38;5;129;01mand\u001b[39;00m name \u001b[38;5;129;01mnot\u001b[39;00m \u001b[38;5;129;01min\u001b[39;00m \u001b[38;5;28mself\u001b[39m\u001b[38;5;241m.\u001b[39m_accessors\n\u001b[0;32m   5899\u001b[0m     \u001b[38;5;129;01mand\u001b[39;00m \u001b[38;5;28mself\u001b[39m\u001b[38;5;241m.\u001b[39m_info_axis\u001b[38;5;241m.\u001b[39m_can_hold_identifiers_and_holds_name(name)\n\u001b[0;32m   5900\u001b[0m ):\n\u001b[0;32m   5901\u001b[0m     \u001b[38;5;28;01mreturn\u001b[39;00m \u001b[38;5;28mself\u001b[39m[name]\n\u001b[1;32m-> 5902\u001b[0m \u001b[38;5;28;01mreturn\u001b[39;00m \u001b[38;5;28mobject\u001b[39m\u001b[38;5;241m.\u001b[39m\u001b[38;5;21m__getattribute__\u001b[39m(\u001b[38;5;28mself\u001b[39m, name)\n",
      "\u001b[1;31mAttributeError\u001b[0m: 'DataFrame' object has no attribute 'z_score__y'"
     ]
    }
   ],
   "source": [
    "from scipy.stats import zscore\n",
    "data['z_score_y']=zscore(data.Savings)\n",
    "data[ (data.z_score_y > 3.0) | (data.z_score__y < -3.0) ]"
   ]
  },
  {
   "cell_type": "code",
   "execution_count": 26,
   "id": "7b028ec6",
   "metadata": {},
   "outputs": [
    {
     "name": "stdout",
     "output_type": "stream",
     "text": [
      "Outliers detected by Z-score method:\n",
      "33    1.447168\n",
      "34    0.551959\n",
      "31    0.367836\n",
      "5     0.112977\n",
      "1     0.476831\n",
      "13    2.018068\n",
      "18    0.391168\n",
      "Name: Savings, dtype: float64\n"
     ]
    }
   ],
   "source": [
    "from scipy import stats\n",
    "from scipy.stats import zscore\n",
    "# Calculate the Z-scores for the residuals\n",
    "residuals = test_y - y_pred\n",
    "z_scores = np.abs(stats.zscore(residuals))\n",
    "data['z_scores']=zscore(data.Savings)\n",
    "data[ (data.z_scores > 3.0) | (data.z_scores < -3.0) ]\n",
    "\n",
    "print(\"Outliers detected by Z-score method:\")\n",
    "print(z_scores)"
   ]
  },
  {
   "cell_type": "code",
   "execution_count": 1,
   "id": "018abdae",
   "metadata": {},
   "outputs": [
    {
     "ename": "NameError",
     "evalue": "name 'data_lm' is not defined",
     "output_type": "error",
     "traceback": [
      "\u001b[1;31m---------------------------------------------------------------------------\u001b[0m",
      "\u001b[1;31mNameError\u001b[0m                                 Traceback (most recent call last)",
      "Cell \u001b[1;32mIn[1], line 6\u001b[0m\n\u001b[0;32m      1\u001b[0m \u001b[38;5;28;01mfrom\u001b[39;00m \u001b[38;5;21;01mstatsmodels\u001b[39;00m\u001b[38;5;21;01m.\u001b[39;00m\u001b[38;5;21;01mstats\u001b[39;00m\u001b[38;5;21;01m.\u001b[39;00m\u001b[38;5;21;01moutliers_influence\u001b[39;00m \u001b[38;5;28;01mimport\u001b[39;00m OLSInfluence\n\u001b[0;32m      5\u001b[0m \u001b[38;5;66;03m# Calculate Cook's distance\u001b[39;00m\n\u001b[1;32m----> 6\u001b[0m influence \u001b[38;5;241m=\u001b[39m OLSInfluence(data_lm)\n\u001b[0;32m      7\u001b[0m cook_distance \u001b[38;5;241m=\u001b[39m influence\u001b[38;5;241m.\u001b[39mcooks_distance[\u001b[38;5;241m0\u001b[39m]\n\u001b[0;32m      9\u001b[0m \u001b[38;5;66;03m# Set a threshold for Cook's distance (e.g., 1)\u001b[39;00m\n",
      "\u001b[1;31mNameError\u001b[0m: name 'data_lm' is not defined"
     ]
    }
   ],
   "source": [
    "from statsmodels.stats.outliers_influence import OLSInfluence\n",
    "\n",
    "\n",
    "\n",
    "# Calculate Cook's distance\n",
    "influence = OLSInfluence(data_lm)\n",
    "cook_distance = influence.cooks_distance[0]\n",
    "\n",
    "# Set a threshold for Cook's distance (e.g., 1)\n",
    "cook_threshold = 1\n",
    "\n",
    "# Find the outliers based on Cook's distance\n",
    "outliers_cook = np.where(cook_distance > cook_threshold)\n",
    "data['outliers_cook']=data.Savings\n",
    "print(\"Outliers detected by Cook's distance method:\")\n",
    "print(outliers_cook)\n",
    "#outliers_cook_values = test_y.iloc[outliers_cook]\n",
    "#print(outliers_cook_values)\n"
   ]
  },
  {
   "cell_type": "code",
   "execution_count": 33,
   "id": "09a7b262",
   "metadata": {},
   "outputs": [
    {
     "name": "stdout",
     "output_type": "stream",
     "text": [
      "Outliers detected by Leverage method:\n",
      "[0.05311796 0.04716051 0.07960514 0.03635198 0.06254    0.03708975\n",
      " 0.08909073 0.20246862 0.039995   0.08077373 0.14512782 0.13615503\n",
      " 0.05842004 0.05461072 0.04376572 0.05385666 0.06776395 0.07731402\n",
      " 0.06190845 0.0784519  0.05311796 0.04965473 0.03595625 0.04338672\n",
      " 0.03803462 0.11936092 0.05368646 0.1012346 ]\n"
     ]
    }
   ],
   "source": [
    "# Calculate the leverage values\n",
    "leverage = influence.hat_matrix_diag\n",
    "\n",
    "# Set a threshold for leverage (e.g., 2 times the mean leverage)\n",
    "#leverage_threshold = 2 * np.mean(leverage)\n",
    "data['leverage']=data.Savings\n",
    "data[ (data.leverage > 3.0) | (data.leverage < -3.0) ]\n",
    "# Find the outliers based on leverage\n",
    "#outliers_leverage = np.where(leverage > leverage_threshold)\n",
    "\n",
    "print(\"Outliers detected by Leverage method:\")\n",
    "print(leverage)\n"
   ]
  },
  {
   "cell_type": "code",
   "execution_count": null,
   "id": "cb34e5d4",
   "metadata": {},
   "outputs": [],
   "source": []
  }
 ],
 "metadata": {
  "kernelspec": {
   "display_name": "Python 3 (ipykernel)",
   "language": "python",
   "name": "python3"
  },
  "language_info": {
   "codemirror_mode": {
    "name": "ipython",
    "version": 3
   },
   "file_extension": ".py",
   "mimetype": "text/x-python",
   "name": "python",
   "nbconvert_exporter": "python",
   "pygments_lexer": "ipython3",
   "version": "3.11.3"
  }
 },
 "nbformat": 4,
 "nbformat_minor": 5
}
