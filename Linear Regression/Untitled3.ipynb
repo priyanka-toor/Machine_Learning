{
 "cells": [
  {
   "cell_type": "code",
   "execution_count": 18,
   "id": "33fc22aa",
   "metadata": {},
   "outputs": [
    {
     "name": "stdout",
     "output_type": "stream",
     "text": [
      "<class 'pandas.core.frame.DataFrame'>\n",
      "RangeIndex: 32 entries, 0 to 31\n",
      "Data columns (total 2 columns):\n",
      " #   Column        Non-Null Count  Dtype  \n",
      "---  ------        --------------  -----  \n",
      " 0   fashion_prod  32 non-null     float64\n",
      " 1   Savings       32 non-null     float64\n",
      "dtypes: float64(2)\n",
      "memory usage: 644.0 bytes\n"
     ]
    }
   ],
   "source": [
    "import pandas as pd\n",
    "import numpy as np\n",
    "data=pd.read_excel('cust.xlsx')\n",
    "data.info()"
   ]
  },
  {
   "cell_type": "code",
   "execution_count": 19,
   "id": "5f5b2da2",
   "metadata": {},
   "outputs": [
    {
     "data": {
      "text/html": [
       "<div>\n",
       "<style scoped>\n",
       "    .dataframe tbody tr th:only-of-type {\n",
       "        vertical-align: middle;\n",
       "    }\n",
       "\n",
       "    .dataframe tbody tr th {\n",
       "        vertical-align: top;\n",
       "    }\n",
       "\n",
       "    .dataframe thead th {\n",
       "        text-align: right;\n",
       "    }\n",
       "</style>\n",
       "<table border=\"1\" class=\"dataframe\">\n",
       "  <thead>\n",
       "    <tr style=\"text-align: right;\">\n",
       "      <th></th>\n",
       "      <th>const</th>\n",
       "      <th>fashion_prod</th>\n",
       "    </tr>\n",
       "  </thead>\n",
       "  <tbody>\n",
       "    <tr>\n",
       "      <th>0</th>\n",
       "      <td>1.0</td>\n",
       "      <td>9.10</td>\n",
       "    </tr>\n",
       "    <tr>\n",
       "      <th>1</th>\n",
       "      <td>1.0</td>\n",
       "      <td>0.23</td>\n",
       "    </tr>\n",
       "    <tr>\n",
       "      <th>2</th>\n",
       "      <td>1.0</td>\n",
       "      <td>1.92</td>\n",
       "    </tr>\n",
       "    <tr>\n",
       "      <th>3</th>\n",
       "      <td>1.0</td>\n",
       "      <td>18.20</td>\n",
       "    </tr>\n",
       "    <tr>\n",
       "      <th>4</th>\n",
       "      <td>1.0</td>\n",
       "      <td>0.10</td>\n",
       "    </tr>\n",
       "  </tbody>\n",
       "</table>\n",
       "</div>"
      ],
      "text/plain": [
       "   const  fashion_prod\n",
       "0    1.0          9.10\n",
       "1    1.0          0.23\n",
       "2    1.0          1.92\n",
       "3    1.0         18.20\n",
       "4    1.0          0.10"
      ]
     },
     "execution_count": 19,
     "metadata": {},
     "output_type": "execute_result"
    }
   ],
   "source": [
    "import statsmodels.api as sm\n",
    "X=sm.add_constant(data['fashion_prod'])\n",
    "X.head(5)"
   ]
  },
  {
   "cell_type": "code",
   "execution_count": 20,
   "id": "906be51e",
   "metadata": {},
   "outputs": [
    {
     "name": "stdout",
     "output_type": "stream",
     "text": [
      "const          -7.646148\n",
      "fashion_prod    0.966135\n",
      "dtype: float64\n"
     ]
    }
   ],
   "source": [
    "Y=data['Savings']\n",
    "from sklearn.model_selection import train_test_split\n",
    "train_X, test_X, train_y, test_y = train_test_split( X,Y, train_size = 0.8, random_state = 100 )\n",
    "data_lm=sm.OLS(train_y,train_X).fit()\n",
    "print(data_lm.params)"
   ]
  },
  {
   "cell_type": "code",
   "execution_count": 21,
   "id": "0e960cda",
   "metadata": {},
   "outputs": [
    {
     "name": "stdout",
     "output_type": "stream",
     "text": [
      "R-squared: 0.87\n"
     ]
    }
   ],
   "source": [
    "from sklearn.linear_model import LinearRegression\n",
    "from sklearn.metrics import r2_score\n",
    "#model=LinearRegression()\n",
    "#model.fit(train_X, train_y)\n",
    "y_pred = data_lm.predict(test_X)\n",
    "\n",
    "r_squared = r2_score(test_y, y_pred)\n",
    "print(f'R-squared: {r_squared:.2f}')"
   ]
  },
  {
   "cell_type": "code",
   "execution_count": 22,
   "id": "84d3bc6c",
   "metadata": {},
   "outputs": [
    {
     "name": "stdout",
     "output_type": "stream",
     "text": [
      "Mean Squared Error (MSE): 9.60\n"
     ]
    }
   ],
   "source": [
    "from sklearn.metrics import mean_squared_error\n",
    "\n",
    "mse = mean_squared_error(test_y, y_pred)\n",
    "print(f'Mean Squared Error (MSE): {mse:.2f}')"
   ]
  },
  {
   "cell_type": "code",
   "execution_count": 23,
   "id": "85df079d",
   "metadata": {},
   "outputs": [
    {
     "name": "stdout",
     "output_type": "stream",
     "text": [
      "The fashion_prod variable is significant.\n"
     ]
    }
   ],
   "source": [
    "p_value = data_lm.pvalues['fashion_prod']\n",
    "if p_value < 0.1:\n",
    "    print(\"The fashion_prod variable is significant.\")\n",
    "else:\n",
    "    print(\"The fashion_prod variable is not significant.\")"
   ]
  },
  {
   "cell_type": "code",
   "execution_count": 24,
   "id": "477930ac",
   "metadata": {},
   "outputs": [
    {
     "name": "stdout",
     "output_type": "stream",
     "text": [
      "levarage outliers : \n",
      "\n",
      "Value is :\n",
      " const            1.0\n",
      "fashion_prod    16.1\n",
      "Name: 25, dtype: float64\n",
      "\n",
      "Levarage value :  0.19826583894332736\n",
      "Value is :\n",
      " const            1.0\n",
      "fashion_prod    18.2\n",
      "Name: 3, dtype: float64\n",
      "\n",
      "Levarage value :  0.26952238453526645\n",
      "Value is :\n",
      " const            1.0\n",
      "fashion_prod    17.0\n",
      "Name: 8, dtype: float64\n",
      "\n",
      "Levarage value :  0.22718730894484843\n"
     ]
    }
   ],
   "source": [
    "leverage_threshold = 1* (len(train_X.columns) + 1) / len(train_X)\n",
    "influence = data_lm.get_influence()\n",
    "\n",
    "# finding levarage values\n",
    "leverage = influence.hat_matrix_diag\n",
    "leverage_outliers = np.where(leverage >  leverage_threshold)[0]\n",
    "\n",
    "\n",
    "# Printing outlier values using leverage\n",
    "print(\"levarage outliers : \\n\")\n",
    "for item in leverage_outliers :\n",
    "    print(\"Value is :\\n\", train_X.iloc[item])\n",
    "    print(\"\\nLevarage value : \", leverage[item])"
   ]
  },
  {
   "cell_type": "code",
   "execution_count": 25,
   "id": "1eca231a",
   "metadata": {},
   "outputs": [
    {
     "data": {
      "text/plain": [
       "<Figure size 800x600 with 0 Axes>"
      ]
     },
     "metadata": {},
     "output_type": "display_data"
    },
    {
     "data": {
      "image/png": "[encoded data removed]",
      "text/plain": [
       "<Figure size 640x480 with 1 Axes>"
      ]
     },
     "metadata": {},
     "output_type": "display_data"
    }
   ],
   "source": [
    "import matplotlib.pyplot as plt\n",
    "import seaborn as sn\n",
    "data_resid=data_lm.resid\n",
    "probplot=sm.ProbPlot(data_resid)\n",
    "plt.figure(figsize=(8,6))\n",
    "probplot.ppplot(line='45')\n",
    "plt.title(\"Normal P-P plot\")\n",
    "plt.show()"
   ]
  },
  {
   "cell_type": "code",
   "execution_count": 26,
   "id": "bad030b5",
   "metadata": {},
   "outputs": [
    {
     "name": "stdout",
     "output_type": "stream",
     "text": [
      "Outliers detected by Z-score method:\n",
      "13    0.661166\n",
      "28    0.171539\n",
      "1     0.311050\n",
      "26    1.366129\n",
      "5     0.570112\n",
      "18    1.798265\n",
      "29    1.005778\n",
      "dtype: float64\n"
     ]
    }
   ],
   "source": [
    "from scipy import stats\n",
    "from scipy.stats import zscore\n",
    "# Calculate the Z-scores for the residuals\n",
    "residuals = test_y - y_pred\n",
    "z_scores = np.abs(stats.zscore(residuals))\n",
    "data['z_scores']=zscore(data.Savings)\n",
    "data[ (data.z_scores > 1.0) | (data.z_scores < -1.0) ]\n",
    "\n",
    "print(\"Outliers detected by Z-score method:\")\n",
    "print(z_scores)\n"
   ]
  },
  {
   "cell_type": "code",
   "execution_count": null,
   "id": "9d2aee82",
   "metadata": {},
   "outputs": [],
   "source": []
  }
 ],
 "metadata": {
  "kernelspec": {
   "display_name": "Python 3 (ipykernel)",
   "language": "python",
   "name": "python3"
  },
  "language_info": {
   "codemirror_mode": {
    "name": "ipython",
    "version": 3
   },
   "file_extension": ".py",
   "mimetype": "text/x-python",
   "name": "python",
   "nbconvert_exporter": "python",
   "pygments_lexer": "ipython3",
   "version": "3.11.3"
  }
 },
 "nbformat": 4,
 "nbformat_minor": 5
}
