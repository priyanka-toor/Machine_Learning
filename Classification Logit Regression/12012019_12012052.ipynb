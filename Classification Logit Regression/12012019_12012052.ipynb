{
 "cells": [
  {
   "cell_type": "code",
   "execution_count": 1,
   "id": "68a0b974",
   "metadata": {},
   "outputs": [
    {
     "name": "stdout",
     "output_type": "stream",
     "text": [
      "<class 'pandas.core.frame.DataFrame'>\n",
      "RangeIndex: 345 entries, 0 to 344\n",
      "Data columns (total 7 columns):\n",
      " #   Column  Non-Null Count  Dtype  \n",
      "---  ------  --------------  -----  \n",
      " 0   Class   345 non-null    int64  \n",
      " 1   F1      345 non-null    int64  \n",
      " 2   F2      345 non-null    int64  \n",
      " 3   F3      345 non-null    int64  \n",
      " 4   F4      345 non-null    int64  \n",
      " 5   F5      345 non-null    int64  \n",
      " 6   F6      345 non-null    float64\n",
      "dtypes: float64(1), int64(6)\n",
      "memory usage: 19.0 KB\n"
     ]
    }
   ],
   "source": [
    "# 1. Build a logistic regression model\n",
    "import pandas as pd\n",
    "import numpy as np\n",
    "\n",
    "data=pd.read_excel(\"Bupa1.xlsx\")\n",
    "data.info()"
   ]
  },
  {
   "cell_type": "code",
   "execution_count": 2,
   "id": "d47b2ff2",
   "metadata": {},
   "outputs": [
    {
     "data": {
      "text/plain": [
       "1    200\n",
       "0    145\n",
       "Name: Class, dtype: int64"
      ]
     },
     "execution_count": 2,
     "metadata": {},
     "output_type": "execute_result"
    }
   ],
   "source": [
    "data.Class.value_counts()"
   ]
  },
  {
   "cell_type": "code",
   "execution_count": 3,
   "id": "4f874588",
   "metadata": {},
   "outputs": [
    {
     "data": {
      "text/plain": [
       "['F1', 'F2', 'F3', 'F4', 'F5', 'F6']"
      ]
     },
     "execution_count": 3,
     "metadata": {},
     "output_type": "execute_result"
    }
   ],
   "source": [
    "X_features=list(data.columns)\n",
    "X_features.remove('Class')\n",
    "X_features"
   ]
  },
  {
   "cell_type": "code",
   "execution_count": 4,
   "id": "9464f446",
   "metadata": {},
   "outputs": [],
   "source": [
    "import statsmodels.api as sm\n",
    "Y=data.Class\n",
    "X=data[['F1', 'F2', 'F3', 'F4', 'F5', 'F6']]\n",
    "X=sm.add_constant(X)\n",
    "from sklearn.model_selection import train_test_split\n",
    "X_train,X_test,y_train,y_test=train_test_split(X,Y,test_size=0.3,random_state=42)"
   ]
  },
  {
   "cell_type": "code",
   "execution_count": 5,
   "id": "c29fd218",
   "metadata": {},
   "outputs": [
    {
     "name": "stdout",
     "output_type": "stream",
     "text": [
      "Optimization terminated successfully.\n",
      "         Current function value: 0.604710\n",
      "         Iterations 6\n",
      "                         Results: Logit\n",
      "=================================================================\n",
      "Model:              Logit            Pseudo R-squared: 0.111     \n",
      "Dependent Variable: Class            AIC:              305.4700  \n",
      "Date:               2023-10-16 15:39 BIC:              329.8636  \n",
      "No. Observations:   241              Log-Likelihood:   -145.74   \n",
      "Df Model:           6                LL-Null:          -163.88   \n",
      "Df Residuals:       234              LLR p-value:      2.4233e-06\n",
      "Converged:          1.0000           Scale:            1.0000    \n",
      "No. Iterations:     6.0000                                       \n",
      "-------------------------------------------------------------------\n",
      "           Coef.    Std.Err.      z      P>|z|     [0.025    0.975]\n",
      "-------------------------------------------------------------------\n",
      "const      5.5581     2.9953    1.8556   0.0635   -0.3126   11.4288\n",
      "F1        -0.0634     0.0331   -1.9134   0.0557   -0.1284    0.0015\n",
      "F2        -0.0148     0.0084   -1.7584   0.0787   -0.0312    0.0017\n",
      "F3        -0.0585     0.0140   -4.1908   0.0000   -0.0858   -0.0311\n",
      "F4         0.1174     0.0289    4.0657   0.0000    0.0608    0.1740\n",
      "F5         0.0199     0.0065    3.0605   0.0022    0.0072    0.0327\n",
      "F6        -0.0762     0.0477   -1.5976   0.1101   -0.1696    0.0173\n",
      "=================================================================\n",
      "\n"
     ]
    }
   ],
   "source": [
    "logit_model = sm.Logit(y_train, X_train)\n",
    "logit_result = logit_model.fit()\n",
    "print(logit_result.summary2())"
   ]
  },
  {
   "cell_type": "code",
   "execution_count": 6,
   "id": "c7a22469",
   "metadata": {},
   "outputs": [
    {
     "data": {
      "text/plain": [
       "['F3', 'F4', 'F5']"
      ]
     },
     "execution_count": 6,
     "metadata": {},
     "output_type": "execute_result"
    }
   ],
   "source": [
    "# 2.Find out which features are statistically significant in the logistic regression model built in Question 1. Build a new \n",
    "#logistic regression model using only the significant features.\n",
    "def get_significant_vars( lm ):\n",
    "    var_p_vals_df = pd.DataFrame( lm.pvalues )\n",
    "    var_p_vals_df['vars'] = var_p_vals_df.index\n",
    "    var_p_vals_df.columns = ['pvals', 'vars']\n",
    "    return list( var_p_vals_df[var_p_vals_df.pvals <= 0.05]['vars'] )\n",
    "significant_vars = get_significant_vars( logit_result )\n",
    "significant_vars"
   ]
  },
  {
   "cell_type": "code",
   "execution_count": 7,
   "id": "bc67acb5",
   "metadata": {},
   "outputs": [
    {
     "name": "stdout",
     "output_type": "stream",
     "text": [
      "Optimization terminated successfully.\n",
      "         Current function value: 0.629920\n",
      "         Iterations 6\n"
     ]
    }
   ],
   "source": [
    "final_logit=sm.Logit(y_train,sm.add_constant(X_train[significant_vars])).fit()"
   ]
  },
  {
   "cell_type": "code",
   "execution_count": 65,
   "id": "ff4eb28e",
   "metadata": {},
   "outputs": [
    {
     "name": "stdout",
     "output_type": "stream",
     "text": [
      "                           Logit Regression Results                           \n",
      "==============================================================================\n",
      "Dep. Variable:                  Class   No. Observations:                  241\n",
      "Model:                          Logit   Df Residuals:                      237\n",
      "Method:                           MLE   Df Model:                            3\n",
      "Date:                Tue, 26 Sep 2023   Pseudo R-squ.:                 0.07364\n",
      "Time:                        00:19:40   Log-Likelihood:                -151.81\n",
      "converged:                       True   LL-Null:                       -163.88\n",
      "Covariance Type:            nonrobust   LLR p-value:                 2.339e-05\n",
      "==============================================================================\n",
      "                 coef    std err          z      P>|z|      [0.025      0.975]\n",
      "------------------------------------------------------------------------------\n",
      "const         -0.9591      0.415     -2.311      0.021      -1.772      -0.146\n",
      "F3            -0.0483      0.013     -3.789      0.000      -0.073      -0.023\n",
      "F4             0.0949      0.027      3.519      0.000       0.042       0.148\n",
      "F5             0.0133      0.006      2.329      0.020       0.002       0.024\n",
      "==============================================================================\n"
     ]
    }
   ],
   "source": [
    "print(final_logit.summary())\n"
   ]
  },
  {
   "cell_type": "code",
   "execution_count": 14,
   "id": "fb7dc748",
   "metadata": {},
   "outputs": [],
   "source": [
    "#F3 has negatively cofficient hence it is negatively effecting the probability (class) , F4 and F5 have positive cofficient hence\n",
    "# they are positively effecting the probability (class)"
   ]
  },
  {
   "cell_type": "code",
   "execution_count": 8,
   "id": "9428556c",
   "metadata": {},
   "outputs": [
    {
     "data": {
      "text/html": [
       "<div>\n",
       "<style scoped>\n",
       "    .dataframe tbody tr th:only-of-type {\n",
       "        vertical-align: middle;\n",
       "    }\n",
       "\n",
       "    .dataframe tbody tr th {\n",
       "        vertical-align: top;\n",
       "    }\n",
       "\n",
       "    .dataframe thead th {\n",
       "        text-align: right;\n",
       "    }\n",
       "</style>\n",
       "<table border=\"1\" class=\"dataframe\">\n",
       "  <thead>\n",
       "    <tr style=\"text-align: right;\">\n",
       "      <th></th>\n",
       "      <th>actual</th>\n",
       "      <th>predicted_prob</th>\n",
       "    </tr>\n",
       "  </thead>\n",
       "  <tbody>\n",
       "    <tr>\n",
       "      <th>57</th>\n",
       "      <td>1</td>\n",
       "      <td>0.602330</td>\n",
       "    </tr>\n",
       "    <tr>\n",
       "      <th>172</th>\n",
       "      <td>0</td>\n",
       "      <td>0.562213</td>\n",
       "    </tr>\n",
       "    <tr>\n",
       "      <th>322</th>\n",
       "      <td>1</td>\n",
       "      <td>0.999445</td>\n",
       "    </tr>\n",
       "    <tr>\n",
       "      <th>33</th>\n",
       "      <td>0</td>\n",
       "      <td>0.552867</td>\n",
       "    </tr>\n",
       "    <tr>\n",
       "      <th>101</th>\n",
       "      <td>1</td>\n",
       "      <td>0.617679</td>\n",
       "    </tr>\n",
       "    <tr>\n",
       "      <th>139</th>\n",
       "      <td>1</td>\n",
       "      <td>0.542205</td>\n",
       "    </tr>\n",
       "    <tr>\n",
       "      <th>254</th>\n",
       "      <td>0</td>\n",
       "      <td>0.623702</td>\n",
       "    </tr>\n",
       "    <tr>\n",
       "      <th>84</th>\n",
       "      <td>1</td>\n",
       "      <td>0.983597</td>\n",
       "    </tr>\n",
       "    <tr>\n",
       "      <th>311</th>\n",
       "      <td>0</td>\n",
       "      <td>0.894079</td>\n",
       "    </tr>\n",
       "    <tr>\n",
       "      <th>194</th>\n",
       "      <td>0</td>\n",
       "      <td>0.382265</td>\n",
       "    </tr>\n",
       "  </tbody>\n",
       "</table>\n",
       "</div>"
      ],
      "text/plain": [
       "     actual  predicted_prob\n",
       "57        1        0.602330\n",
       "172       0        0.562213\n",
       "322       1        0.999445\n",
       "33        0        0.552867\n",
       "101       1        0.617679\n",
       "139       1        0.542205\n",
       "254       0        0.623702\n",
       "84        1        0.983597\n",
       "311       0        0.894079\n",
       "194       0        0.382265"
      ]
     },
     "execution_count": 8,
     "metadata": {},
     "output_type": "execute_result"
    }
   ],
   "source": [
    "#1.predict the probability of getting Class \n",
    "y_pred=pd.DataFrame({\"actual\":y_test,\"predicted_prob\":final_logit.predict(sm.add_constant(X_test[significant_vars]))})\n",
    "y_pred.sample(10,random_state=42)"
   ]
  },
  {
   "cell_type": "code",
   "execution_count": 9,
   "id": "3c89c8d7",
   "metadata": {},
   "outputs": [
    {
     "data": {
      "text/html": [
       "<div>\n",
       "<style scoped>\n",
       "    .dataframe tbody tr th:only-of-type {\n",
       "        vertical-align: middle;\n",
       "    }\n",
       "\n",
       "    .dataframe tbody tr th {\n",
       "        vertical-align: top;\n",
       "    }\n",
       "\n",
       "    .dataframe thead th {\n",
       "        text-align: right;\n",
       "    }\n",
       "</style>\n",
       "<table border=\"1\" class=\"dataframe\">\n",
       "  <thead>\n",
       "    <tr style=\"text-align: right;\">\n",
       "      <th></th>\n",
       "      <th>actual</th>\n",
       "      <th>predicted_prob</th>\n",
       "      <th>predicted</th>\n",
       "    </tr>\n",
       "  </thead>\n",
       "  <tbody>\n",
       "    <tr>\n",
       "      <th>57</th>\n",
       "      <td>1</td>\n",
       "      <td>0.602330</td>\n",
       "      <td>1</td>\n",
       "    </tr>\n",
       "    <tr>\n",
       "      <th>172</th>\n",
       "      <td>0</td>\n",
       "      <td>0.562213</td>\n",
       "      <td>1</td>\n",
       "    </tr>\n",
       "    <tr>\n",
       "      <th>322</th>\n",
       "      <td>1</td>\n",
       "      <td>0.999445</td>\n",
       "      <td>1</td>\n",
       "    </tr>\n",
       "    <tr>\n",
       "      <th>33</th>\n",
       "      <td>0</td>\n",
       "      <td>0.552867</td>\n",
       "      <td>1</td>\n",
       "    </tr>\n",
       "    <tr>\n",
       "      <th>101</th>\n",
       "      <td>1</td>\n",
       "      <td>0.617679</td>\n",
       "      <td>1</td>\n",
       "    </tr>\n",
       "    <tr>\n",
       "      <th>139</th>\n",
       "      <td>1</td>\n",
       "      <td>0.542205</td>\n",
       "      <td>1</td>\n",
       "    </tr>\n",
       "    <tr>\n",
       "      <th>254</th>\n",
       "      <td>0</td>\n",
       "      <td>0.623702</td>\n",
       "      <td>1</td>\n",
       "    </tr>\n",
       "    <tr>\n",
       "      <th>84</th>\n",
       "      <td>1</td>\n",
       "      <td>0.983597</td>\n",
       "      <td>1</td>\n",
       "    </tr>\n",
       "    <tr>\n",
       "      <th>311</th>\n",
       "      <td>0</td>\n",
       "      <td>0.894079</td>\n",
       "      <td>1</td>\n",
       "    </tr>\n",
       "    <tr>\n",
       "      <th>194</th>\n",
       "      <td>0</td>\n",
       "      <td>0.382265</td>\n",
       "      <td>0</td>\n",
       "    </tr>\n",
       "  </tbody>\n",
       "</table>\n",
       "</div>"
      ],
      "text/plain": [
       "     actual  predicted_prob  predicted\n",
       "57        1        0.602330          1\n",
       "172       0        0.562213          1\n",
       "322       1        0.999445          1\n",
       "33        0        0.552867          1\n",
       "101       1        0.617679          1\n",
       "139       1        0.542205          1\n",
       "254       0        0.623702          1\n",
       "84        1        0.983597          1\n",
       "311       0        0.894079          1\n",
       "194       0        0.382265          0"
      ]
     },
     "execution_count": 9,
     "metadata": {},
     "output_type": "execute_result"
    }
   ],
   "source": [
    "y_pred['predicted']=y_pred.predicted_prob.map(lambda x:1 if x>0.5 else 0)\n",
    "y_pred.sample(10,random_state=42)"
   ]
  },
  {
   "cell_type": "code",
   "execution_count": 10,
   "id": "57cb7991",
   "metadata": {},
   "outputs": [
    {
     "name": "stdout",
     "output_type": "stream",
     "text": [
      "Optimal Cutoff Probability: 0.48999999999999977\n",
      "Maximum Youden's Index: 0.3833333333333333\n"
     ]
    }
   ],
   "source": [
    "#4. Calculate Youden’s index for all possible cut-off probabilities ranging from 0.1 to 0.5 with an interval of0.01. Find the \n",
    "#optimal cut-off where Youden’s index is maximum.\n",
    "cutoffs = np.arange(0.1, 0.5, 0.01)\n",
    "optimal_cutoff = None\n",
    "max_youden_index = -1\n",
    "\n",
    "for cutoff in cutoffs:\n",
    "    predicted_labels = (y_pred.predicted_prob >= cutoff).astype(int)\n",
    "\n",
    "    true_positives = np.sum((y_pred.actual == 1) & (predicted_labels == 1))\n",
    "    true_negatives = np.sum((y_pred.actual== 0) & (predicted_labels == 0))\n",
    "    false_positives = np.sum((y_pred.actual == 0) & (predicted_labels == 1))\n",
    "    false_negatives = np.sum((y_pred.actual== 1) & (predicted_labels == 0))\n",
    "\n",
    "    sensitivity = true_positives / (true_positives + false_negatives)\n",
    "    specificity = true_negatives / (true_negatives + false_positives)\n",
    "\n",
    "    # Calculate Youden's Index\n",
    "    youden_index = sensitivity + specificity - 1\n",
    "\n",
    "    # Check if this cutoff yields a higher Youden's Index\n",
    "    if youden_index > max_youden_index:\n",
    "        max_youden_index = youden_index\n",
    "        optimal_cutoff = cutoff\n",
    "\n",
    "print(\"Optimal Cutoff Probability:\", optimal_cutoff)\n",
    "print(\"Maximum Youden's Index:\", max_youden_index)"
   ]
  },
  {
   "cell_type": "code",
   "execution_count": 47,
   "id": "f887ca98",
   "metadata": {},
   "outputs": [
    {
     "data": {
      "image/png": "[encoded data removed]",
      "text/plain": [
       "<Figure size 640x480 with 2 Axes>"
      ]
     },
     "metadata": {},
     "output_type": "display_data"
    }
   ],
   "source": [
    "#5. Build a confusion matrix based on the cut-off probability found in Question 4 and report the precision and recall of the model\n",
    "import matplotlib.pyplot as plt\n",
    "import seaborn as sn\n",
    "from sklearn import metrics\n",
    "def draw_cm(actual,predicted):\n",
    "    cm=metrics.confusion_matrix(actual,predicted,labels=[1,0])\n",
    "    sn.heatmap(cm,annot=True,fmt='.2f' , xticklabels=[\"class zero\",\"class one\"],yticklabels=[\"class zero\",\"class one\"])\n",
    "    plt.ylabel('True label')\n",
    "    plt.xlabel('Predicted label')\n",
    "    plt.show()\n",
    "y_pred['predicted_new']=y_pred.predicted_prob.map(lambda x: 1 if x>optimal_cutoff else 0)\n",
    "draw_cm(y_pred.actual,y_pred.predicted_new)"
   ]
  },
  {
   "cell_type": "code",
   "execution_count": 11,
   "id": "56883553",
   "metadata": {},
   "outputs": [
    {
     "name": "stdout",
     "output_type": "stream",
     "text": [
      "\n",
      "Precision: 0.7066666666666667\n",
      "Recall: 0.8833333333333333\n"
     ]
    }
   ],
   "source": [
    "from sklearn.metrics import precision_score, recall_score\n",
    "precision = precision_score(y_pred['actual'], y_pred['predicted'])\n",
    "recall = recall_score(y_pred['actual'], y_pred['predicted'])\n",
    "print(\"\\nPrecision:\", precision)\n",
    "print(\"Recall:\", recall)"
   ]
  },
  {
   "cell_type": "code",
   "execution_count": 12,
   "id": "1c767331",
   "metadata": {},
   "outputs": [
    {
     "name": "stdout",
     "output_type": "stream",
     "text": [
      "Optimal Cutoff Probability (Cost-based): 0.1\n",
      "Precision for Class 1: 0.5769230769230769\n",
      "Recall for Class 1: 1.0\n"
     ]
    }
   ],
   "source": [
    "#6.Find optimal cut-off probability using cost-based approach using the cost of FPs and FNs as defined below.\n",
    "#1. Cost of predicting “class” as “No class” (FNs) cases is 5 times more than predicting “No class” as “class” (FPs).\n",
    "#2. Then find the precision and recall of the model for class= 1 \n",
    "cost_fp = 1  \n",
    "cost_fn = 5\n",
    "\n",
    "cutoffs = np.arange(0.1, 0.5, 0.01)\n",
    "optimal_cutoff = None\n",
    "min_total_cost = float('inf')\n",
    "for cutoff in cutoffs:\n",
    "    y_pred['predicted'] = y_pred['predicted_prob'].map(lambda x: 1 if x > cutoff else 0)\n",
    "    true_positives = np.sum((y_pred.actual == 1) & (predicted_labels == 1))\n",
    "    true_negatives = np.sum((y_pred.actual== 0) & (predicted_labels == 0))\n",
    "    false_positives = np.sum((y_pred.actual == 0) & (predicted_labels == 1))\n",
    "    false_negatives = np.sum((y_pred.actual== 1) & (predicted_labels == 0))\n",
    "    \n",
    "    # Calculate the Optimal Cutoff Probability (Cost-based)\n",
    "    total_cost = cost_fn * false_negatives + cost_fp * false_positives\n",
    "    if total_cost < min_total_cost:\n",
    "        min_total_cost = total_cost\n",
    "        optimal_cutoff = cutoff\n",
    "\n",
    "print(\"Optimal Cutoff Probability (Cost-based):\", optimal_cutoff)\n",
    "\n",
    "# Calculate precision and recall for class 1 using the chosen cutoff\n",
    "y_pred['predicted_class_1'] = y_pred['predicted_prob'].map(lambda x: 1 if x > optimal_cutoff else 0)\n",
    "precision_class_1 = precision_score(y_pred['actual'], y_pred['predicted_class_1'], pos_label=1)\n",
    "recall_class_1 = recall_score(y_pred['actual'], y_pred['predicted_class_1'], pos_label=1)\n",
    "\n",
    "print(\"Precision for Class 1:\", precision_class_1)\n",
    "print(\"Recall for Class 1:\", recall_class_1)\n",
    "    "
   ]
  },
  {
   "cell_type": "code",
   "execution_count": 15,
   "id": "7a087c6b",
   "metadata": {},
   "outputs": [
    {
     "name": "stdout",
     "output_type": "stream",
     "text": [
      "0.7211538461538461\n"
     ]
    }
   ],
   "source": [
    "from sklearn.metrics import accuracy_score\n",
    "accuracy_lr = accuracy_score(y_test, y_pred['predicted'])\n",
    "print(accuracy_lr)\n"
   ]
  },
  {
   "cell_type": "code",
   "execution_count": null,
   "id": "30349828",
   "metadata": {},
   "outputs": [],
   "source": []
  }
 ],
 "metadata": {
  "kernelspec": {
   "display_name": "Python 3 (ipykernel)",
   "language": "python",
   "name": "python3"
  },
  "language_info": {
   "codemirror_mode": {
    "name": "ipython",
    "version": 3
   },
   "file_extension": ".py",
   "mimetype": "text/x-python",
   "name": "python",
   "nbconvert_exporter": "python",
   "pygments_lexer": "ipython3",
   "version": "3.11.3"
  }
 },
 "nbformat": 4,
 "nbformat_minor": 5
}
