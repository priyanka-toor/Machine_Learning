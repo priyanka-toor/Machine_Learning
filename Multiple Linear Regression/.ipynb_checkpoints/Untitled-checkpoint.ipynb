{
 "cells": [
  {
   "cell_type": "code",
   "execution_count": 91,
   "id": "be470ff5",
   "metadata": {},
   "outputs": [
    {
     "name": "stdout",
     "output_type": "stream",
     "text": [
      "<class 'pandas.core.frame.DataFrame'>\n",
      "RangeIndex: 32 entries, 0 to 31\n",
      "Data columns (total 4 columns):\n",
      " #   Column     Non-Null Count  Dtype  \n",
      "---  ------     --------------  -----  \n",
      " 0   Marks      32 non-null     int64  \n",
      " 1   projects   32 non-null     int64  \n",
      " 2   Package    32 non-null     float64\n",
      " 3   acad perf  32 non-null     int64  \n",
      "dtypes: float64(1), int64(3)\n",
      "memory usage: 1.1 KB\n"
     ]
    }
   ],
   "source": [
    "import pandas as pd\n",
    "data=pd.read_excel('stud1.xlsx')\n",
    "data.info()"
   ]
  },
  {
   "cell_type": "code",
   "execution_count": 92,
   "id": "7878cb36",
   "metadata": {},
   "outputs": [],
   "source": [
    "import numpy as np\n",
    "import statsmodels.api as sm\n",
    "from sklearn.model_selection import train_test_split\n",
    "X_features=data[['Marks','projects','Package']]\n",
    "X=sm.add_constant(X_features)\n",
    "Y=data['acad perf']\n",
    "train_X, test_X, train_y, test_y = train_test_split(X ,Y,train_size = 0.8,random_state = 42 )"
   ]
  },
  {
   "cell_type": "code",
   "execution_count": 84,
   "id": "42a8a76b",
   "metadata": {},
   "outputs": [
    {
     "data": {
      "text/html": [
       "<table class=\"simpletable\">\n",
       "<tr>\n",
       "        <td>Model:</td>               <td>OLS</td>         <td>Adj. R-squared:</td>     <td>1.000</td>  \n",
       "</tr>\n",
       "<tr>\n",
       "  <td>Dependent Variable:</td>     <td>acad perf</td>           <td>AIC:</td>          <td>-6.1092</td> \n",
       "</tr>\n",
       "<tr>\n",
       "         <td>Date:</td>        <td>2023-09-19 01:15</td>        <td>BIC:</td>          <td>-1.2337</td> \n",
       "</tr>\n",
       "<tr>\n",
       "   <td>No. Observations:</td>         <td>25</td>          <td>Log-Likelihood:</td>    <td>7.0546</td>  \n",
       "</tr>\n",
       "<tr>\n",
       "       <td>Df Model:</td>              <td>3</td>           <td>F-statistic:</td>     <td>2.455e+04</td>\n",
       "</tr>\n",
       "<tr>\n",
       "     <td>Df Residuals:</td>           <td>21</td>        <td>Prob (F-statistic):</td> <td>2.26e-37</td> \n",
       "</tr>\n",
       "<tr>\n",
       "      <td>R-squared:</td>            <td>1.000</td>            <td>Scale:</td>        <td>0.039641</td> \n",
       "</tr>\n",
       "</table>\n",
       "<table class=\"simpletable\">\n",
       "<tr>\n",
       "      <td></td>      <th>Coef.</th>  <th>Std.Err.</th>     <th>t</th>     <th>P>|t|</th> <th>[0.025</th>  <th>0.975]</th>\n",
       "</tr>\n",
       "<tr>\n",
       "  <th>const</th>    <td>-0.8453</td>  <td>0.4765</td>   <td>-1.7739</td> <td>0.0906</td> <td>-1.8362</td> <td>0.1457</td>\n",
       "</tr>\n",
       "<tr>\n",
       "  <th>Marks</th>    <td>1.0138</td>   <td>0.0089</td>  <td>113.9405</td> <td>0.0000</td> <td>0.9953</td>  <td>1.0323</td>\n",
       "</tr>\n",
       "<tr>\n",
       "  <th>projects</th> <td>0.9984</td>   <td>0.0350</td>   <td>28.5428</td> <td>0.0000</td> <td>0.9256</td>  <td>1.0711</td>\n",
       "</tr>\n",
       "<tr>\n",
       "  <th>Package</th>  <td>-0.0225</td>  <td>0.0240</td>   <td>-0.9376</td> <td>0.3591</td> <td>-0.0725</td> <td>0.0274</td>\n",
       "</tr>\n",
       "</table>\n",
       "<table class=\"simpletable\">\n",
       "<tr>\n",
       "     <td>Omnibus:</td>    <td>50.840</td>  <td>Durbin-Watson:</td>    <td>2.511</td> \n",
       "</tr>\n",
       "<tr>\n",
       "  <td>Prob(Omnibus):</td>  <td>0.000</td> <td>Jarque-Bera (JB):</td> <td>273.598</td>\n",
       "</tr>\n",
       "<tr>\n",
       "       <td>Skew:</td>     <td>-3.723</td>     <td>Prob(JB):</td>      <td>0.000</td> \n",
       "</tr>\n",
       "<tr>\n",
       "     <td>Kurtosis:</td>   <td>17.395</td>  <td>Condition No.:</td>     <td>978</td>  \n",
       "</tr>\n",
       "</table>"
      ],
      "text/plain": [
       "<class 'statsmodels.iolib.summary2.Summary'>\n",
       "\"\"\"\n",
       "                 Results: Ordinary least squares\n",
       "==================================================================\n",
       "Model:              OLS              Adj. R-squared:     1.000    \n",
       "Dependent Variable: acad perf        AIC:                -6.1092  \n",
       "Date:               2023-09-19 01:15 BIC:                -1.2337  \n",
       "No. Observations:   25               Log-Likelihood:     7.0546   \n",
       "Df Model:           3                F-statistic:        2.455e+04\n",
       "Df Residuals:       21               Prob (F-statistic): 2.26e-37 \n",
       "R-squared:          1.000            Scale:              0.039641 \n",
       "--------------------------------------------------------------------\n",
       "            Coef.    Std.Err.      t       P>|t|     [0.025   0.975]\n",
       "--------------------------------------------------------------------\n",
       "const      -0.8453     0.4765    -1.7739   0.0906   -1.8362   0.1457\n",
       "Marks       1.0138     0.0089   113.9405   0.0000    0.9953   1.0323\n",
       "projects    0.9984     0.0350    28.5428   0.0000    0.9256   1.0711\n",
       "Package    -0.0225     0.0240    -0.9376   0.3591   -0.0725   0.0274\n",
       "------------------------------------------------------------------\n",
       "Omnibus:              50.840       Durbin-Watson:          2.511  \n",
       "Prob(Omnibus):        0.000        Jarque-Bera (JB):       273.598\n",
       "Skew:                 -3.723       Prob(JB):               0.000  \n",
       "Kurtosis:             17.395       Condition No.:          978    \n",
       "==================================================================\n",
       "\n",
       "\"\"\""
      ]
     },
     "execution_count": 84,
     "metadata": {},
     "output_type": "execute_result"
    }
   ],
   "source": [
    "data_lm=sm.OLS(train_y, train_X).fit() \n",
    "data_lm.summary2()"
   ]
  },
  {
   "cell_type": "code",
   "execution_count": 93,
   "id": "c2158925",
   "metadata": {},
   "outputs": [
    {
     "name": "stdout",
     "output_type": "stream",
     "text": [
      "   Variable        VIF\n",
      "0     Marks  22.243345\n",
      "1  projects   5.136108\n",
      "2   Package  24.816587\n"
     ]
    }
   ],
   "source": [
    "from statsmodels.stats.outliers_influence import variance_inflation_factor\n",
    "vif = pd.DataFrame()\n",
    "vif[\"Variable\"] = X_features.columns\n",
    "vif[\"VIF\"] = [variance_inflation_factor(X_features.values, i) for i in range(X_features.shape[1])]\n",
    "\n",
    "print(vif)"
   ]
  },
  {
   "cell_type": "code",
   "execution_count": null,
   "id": "3d11c144",
   "metadata": {},
   "outputs": [],
   "source": []
  },
  {
   "cell_type": "code",
   "execution_count": null,
   "id": "76454e4b",
   "metadata": {},
   "outputs": [],
   "source": []
  }
 ],
 "metadata": {
  "kernelspec": {
   "display_name": "Python 3 (ipykernel)",
   "language": "python",
   "name": "python3"
  },
  "language_info": {
   "codemirror_mode": {
    "name": "ipython",
    "version": 3
   },
   "file_extension": ".py",
   "mimetype": "text/x-python",
   "name": "python",
   "nbconvert_exporter": "python",
   "pygments_lexer": "ipython3",
   "version": "3.11.3"
  }
 },
 "nbformat": 4,
 "nbformat_minor": 5
}
