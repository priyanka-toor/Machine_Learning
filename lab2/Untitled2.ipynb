{
 "cells": [
  {
   "cell_type": "code",
   "execution_count": 5,
   "id": "2c668480",
   "metadata": {},
   "outputs": [
    {
     "name": "stdout",
     "output_type": "stream",
     "text": [
      "Random Data:\n",
      "[  17   19   49  -23   29   39   73  -54   83   47  127   62   -5   60\n",
      "   23    1   51    6   -2  114    6   49   12   23  -34   32   39   53\n",
      "   30  106   13   52   25  -32    6   29   19   17   24   37   71   33\n",
      "   16    9  -24    1   38    2   81   -7   71  -21   10    4    6   17\n",
      "   29    6  -15  -23   -3  -65   42  -94   10 -104  100   44   49   99\n",
      "    5   21   -6   54   49   23   42   20   30  -45   -6  -31    1   -5\n",
      "    9   23  -67   61   18   21  -63   22   30    9  -45   70   44    0\n",
      "   29    4]\n"
     ]
    }
   ],
   "source": [
    "import numpy as np\n",
    "\n",
    "# Desired mean\n",
    "desired_mean = 22\n",
    "\n",
    "# Sample size\n",
    "sample_size = 100\n",
    "\n",
    "# Generate random data\n",
    "# We'll use a normal distribution with a mean close to 22 and adjust the standard deviation\n",
    "# to control the spread of the data\n",
    "std_dev = 40  # You can adjust the standard deviation as needed\n",
    "\n",
    "# Generate random data with the desired mean\n",
    "random_data = np.random.normal(desired_mean, std_dev, sample_size).astype(int)\n",
    "\n",
    "# Print the random data\n",
    "print(\"Random Data:\")\n",
    "print(random_data)"
   ]
  },
  {
   "cell_type": "code",
   "execution_count": 6,
   "id": "b12cd192",
   "metadata": {},
   "outputs": [
    {
     "data": {
      "text/plain": [
       "TtestResult(statistic=0.29581637114376064, pvalue=0.767989909338779, df=99)"
      ]
     },
     "execution_count": 6,
     "metadata": {},
     "output_type": "execute_result"
    }
   ],
   "source": [
    "from scipy import stats\n",
    "stats.ttest_1samp(random_data,18)"
   ]
  },
  {
   "cell_type": "code",
   "execution_count": null,
   "id": "0e04958c",
   "metadata": {},
   "outputs": [],
   "source": []
  }
 ],
 "metadata": {
  "kernelspec": {
   "display_name": "Python 3 (ipykernel)",
   "language": "python",
   "name": "python3"
  },
  "language_info": {
   "codemirror_mode": {
    "name": "ipython",
    "version": 3
   },
   "file_extension": ".py",
   "mimetype": "text/x-python",
   "name": "python",
   "nbconvert_exporter": "python",
   "pygments_lexer": "ipython3",
   "version": "3.11.3"
  }
 },
 "nbformat": 4,
 "nbformat_minor": 5
}
