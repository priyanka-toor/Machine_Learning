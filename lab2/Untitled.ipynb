{
 "cells": [
  {
   "cell_type": "code",
   "execution_count": 1,
   "id": "4174475b",
   "metadata": {},
   "outputs": [
    {
     "data": {
      "text/plain": [
       "0.1366911308473363"
      ]
     },
     "execution_count": 1,
     "metadata": {},
     "output_type": "execute_result"
    }
   ],
   "source": [
    "from scipy import stats\n",
    "1-stats.poisson.cdf(30,25)"
   ]
  },
  {
   "cell_type": "code",
   "execution_count": 2,
   "id": "122d5843",
   "metadata": {},
   "outputs": [
    {
     "data": {
      "text/plain": [
       "0.35536420706457217"
      ]
     },
     "execution_count": 2,
     "metadata": {},
     "output_type": "execute_result"
    }
   ],
   "source": [
    "1-stats.poisson.cdf(1,1.25)"
   ]
  },
  {
   "cell_type": "code",
   "execution_count": 3,
   "id": "a27f0073",
   "metadata": {},
   "outputs": [
    {
     "data": {
      "text/plain": [
       "0.6320696377349755"
      ]
     },
     "execution_count": 3,
     "metadata": {},
     "output_type": "execute_result"
    }
   ],
   "source": [
    "stats.expon.cdf(85,loc=1/85,scale=85)"
   ]
  },
  {
   "cell_type": "code",
   "execution_count": 4,
   "id": "87e28146",
   "metadata": {},
   "outputs": [
    {
     "data": {
      "text/plain": [
       "0.17126084522766882"
      ]
     },
     "execution_count": 4,
     "metadata": {},
     "output_type": "execute_result"
    }
   ],
   "source": [
    "1-stats.expon.cdf(150,loc=1/85,scale=85)"
   ]
  },
  {
   "cell_type": "code",
   "execution_count": 6,
   "id": "f9f75c01",
   "metadata": {},
   "outputs": [
    {
     "data": {
      "text/plain": [
       "(-11.321028242757974, 5.162682749978096e-30)"
      ]
     },
     "execution_count": 6,
     "metadata": {},
     "output_type": "execute_result"
    }
   ],
   "source": [
    "import math\n",
    "def z_test(pop_mean,pop_std,sample,s_mean):\n",
    "    z_score=(s_mean-pop_mean)/(pop_std/math.sqrt(sample))\n",
    "    return z_score,stats.norm.cdf(z_score)\n",
    "z_test(5000,1.30,60,4998.1)"
   ]
  },
  {
   "cell_type": "code",
   "execution_count": 7,
   "id": "c5332266",
   "metadata": {},
   "outputs": [
    {
     "data": {
      "text/plain": [
       "TtestResult(statistic=9.09984223560339, pvalue=1.0046149454985643e-14, df=99)"
      ]
     },
     "execution_count": 7,
     "metadata": {},
     "output_type": "execute_result"
    }
   ],
   "source": [
    "import numpy as np\n",
    "sample_size = 100\n",
    "desired_mean = 22\n",
    "min_value = 15\n",
    "max_value = 30\n",
    "sample = np.linspace(min_value, max_value, sample_size)\n",
    "sample_adjusted = sample + (desired_mean - np.mean(sample))\n",
    "stats.ttest_1samp(sample_adjusted,18)"
   ]
  },
  {
   "cell_type": "code",
   "execution_count": 8,
   "id": "438f3340",
   "metadata": {},
   "outputs": [
    {
     "data": {
      "text/plain": [
       "TtestResult(statistic=1.706220419175631, pvalue=0.09110231301208196, df=99)"
      ]
     },
     "execution_count": 8,
     "metadata": {},
     "output_type": "execute_result"
    }
   ],
   "source": [
    "import numpy as np\n",
    "sample_size = 100\n",
    "desired_mean = 22\n",
    "min_value = 10\n",
    "max_value = 90\n",
    "sample = np.linspace(min_value, max_value, sample_size)\n",
    "sample_adjusted = sample + (desired_mean - np.mean(sample))\n",
    "stats.ttest_1samp(sample_adjusted,18)"
   ]
  },
  {
   "cell_type": "code",
   "execution_count": 9,
   "id": "03f5812c",
   "metadata": {},
   "outputs": [
    {
     "data": {
      "text/plain": [
       "TtestResult(statistic=1.3787639750914225, pvalue=0.17107494544941318, df=99)"
      ]
     },
     "execution_count": 9,
     "metadata": {},
     "output_type": "execute_result"
    }
   ],
   "source": [
    "import numpy as np\n",
    "sample_size = 100\n",
    "desired_mean = 22\n",
    "min_value = 1\n",
    "max_value = 100\n",
    "sample = np.linspace(min_value, max_value, sample_size)\n",
    "sample_adjusted = sample + (desired_mean - np.mean(sample))\n",
    "stats.ttest_1samp(sample_adjusted,18)"
   ]
  },
  {
   "cell_type": "code",
   "execution_count": 10,
   "id": "f9d71dc6",
   "metadata": {},
   "outputs": [
    {
     "data": {
      "text/plain": [
       "TtestResult(statistic=1.516640372600565, pvalue=0.13254422723106166, df=99)"
      ]
     },
     "execution_count": 10,
     "metadata": {},
     "output_type": "execute_result"
    }
   ],
   "source": [
    "import numpy as np\n",
    "sample_size = 100\n",
    "desired_mean = 22\n",
    "min_value = 5\n",
    "max_value = 95\n",
    "sample = np.linspace(min_value, max_value, sample_size)\n",
    "sample_adjusted = sample + (desired_mean - np.mean(sample))\n",
    "stats.ttest_1samp(sample_adjusted,18)"
   ]
  },
  {
   "cell_type": "code",
   "execution_count": 11,
   "id": "280260dc",
   "metadata": {},
   "outputs": [
    {
     "data": {
      "text/plain": [
       "TtestResult(statistic=1.819968447120673, pvalue=0.0717855665757301, df=99)"
      ]
     },
     "execution_count": 11,
     "metadata": {},
     "output_type": "execute_result"
    }
   ],
   "source": [
    "import numpy as np\n",
    "sample_size = 100\n",
    "desired_mean = 22\n",
    "min_value = 15\n",
    "max_value = 90\n",
    "sample = np.linspace(min_value, max_value, sample_size)\n",
    "sample_adjusted = sample + (desired_mean - np.mean(sample))\n",
    "stats.ttest_1samp(sample_adjusted,18)"
   ]
  },
  {
   "cell_type": "code",
   "execution_count": 12,
   "id": "e08fa313",
   "metadata": {},
   "outputs": [
    {
     "data": {
      "text/plain": [
       "TtestResult(statistic=1.8199684471206763, pvalue=0.07178556657572957, df=99)"
      ]
     },
     "execution_count": 12,
     "metadata": {},
     "output_type": "execute_result"
    }
   ],
   "source": [
    "import numpy as np\n",
    "sample_size = 100\n",
    "desired_mean = 22\n",
    "min_value = 10\n",
    "max_value = 85\n",
    "sample = np.linspace(min_value, max_value, sample_size)\n",
    "sample_adjusted = sample + (desired_mean - np.mean(sample))\n",
    "stats.ttest_1samp(sample_adjusted,18)"
   ]
  },
  {
   "cell_type": "code",
   "execution_count": 13,
   "id": "2013ec82",
   "metadata": {},
   "outputs": [
    {
     "data": {
      "text/plain": [
       "TtestResult(statistic=1.949966193343583, pvalue=0.0540087695957979, df=99)"
      ]
     },
     "execution_count": 13,
     "metadata": {},
     "output_type": "execute_result"
    }
   ],
   "source": [
    "import numpy as np\n",
    "sample_size = 100\n",
    "desired_mean = 22\n",
    "min_value = 15\n",
    "max_value = 85\n",
    "sample = np.linspace(min_value, max_value, sample_size)\n",
    "sample_adjusted = sample + (desired_mean - np.mean(sample))\n",
    "stats.ttest_1samp(sample_adjusted,18)"
   ]
  },
  {
   "cell_type": "code",
   "execution_count": 14,
   "id": "8f8a4ed0",
   "metadata": {},
   "outputs": [
    {
     "data": {
      "text/plain": [
       "TtestResult(statistic=2.2749605589008493, pvalue=0.02506487681498716, df=99)"
      ]
     },
     "execution_count": 14,
     "metadata": {},
     "output_type": "execute_result"
    }
   ],
   "source": [
    "import numpy as np\n",
    "sample_size = 100\n",
    "desired_mean = 22\n",
    "min_value = 20\n",
    "max_value = 80\n",
    "sample = np.linspace(min_value, max_value, sample_size)\n",
    "sample_adjusted = sample + (desired_mean - np.mean(sample))\n",
    "stats.ttest_1samp(sample_adjusted,18)"
   ]
  },
  {
   "cell_type": "code",
   "execution_count": null,
   "id": "3081cfa0",
   "metadata": {},
   "outputs": [],
   "source": []
  }
 ],
 "metadata": {
  "kernelspec": {
   "display_name": "Python 3 (ipykernel)",
   "language": "python",
   "name": "python3"
  },
  "language_info": {
   "codemirror_mode": {
    "name": "ipython",
    "version": 3
   },
   "file_extension": ".py",
   "mimetype": "text/x-python",
   "name": "python",
   "nbconvert_exporter": "python",
   "pygments_lexer": "ipython3",
   "version": "3.11.3"
  }
 },
 "nbformat": 4,
 "nbformat_minor": 5
}
