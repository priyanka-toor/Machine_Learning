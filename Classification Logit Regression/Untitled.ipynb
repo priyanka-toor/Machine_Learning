{
 "cells": [
  {
   "cell_type": "code",
   "execution_count": 1,
   "id": "08096c18",
   "metadata": {},
   "outputs": [
    {
     "name": "stdout",
     "output_type": "stream",
     "text": [
      "<class 'pandas.core.frame.DataFrame'>\n",
      "RangeIndex: 345 entries, 0 to 344\n",
      "Data columns (total 7 columns):\n",
      " #   Column  Non-Null Count  Dtype  \n",
      "---  ------  --------------  -----  \n",
      " 0   Class   345 non-null    int64  \n",
      " 1   F1      345 non-null    int64  \n",
      " 2   F2      345 non-null    int64  \n",
      " 3   F3      345 non-null    int64  \n",
      " 4   F4      345 non-null    int64  \n",
      " 5   F5      345 non-null    int64  \n",
      " 6   F6      345 non-null    float64\n",
      "dtypes: float64(1), int64(6)\n",
      "memory usage: 19.0 KB\n"
     ]
    }
   ],
   "source": [
    "import pandas as pd\n",
    "import numpy as np\n",
    "\n",
    "data=pd.read_excel(\"Bupa.xlsx\")\n",
    "data.info()"
   ]
  },
  {
   "cell_type": "code",
   "execution_count": 3,
   "id": "9d25a5b6",
   "metadata": {},
   "outputs": [
    {
     "data": {
      "text/plain": [
       "2    200\n",
       "1    145\n",
       "Name: Class, dtype: int64"
      ]
     },
     "execution_count": 3,
     "metadata": {},
     "output_type": "execute_result"
    }
   ],
   "source": [
    "data.Class.value_counts()"
   ]
  },
  {
   "cell_type": "code",
   "execution_count": 4,
   "id": "4c9570e3",
   "metadata": {},
   "outputs": [
    {
     "data": {
      "text/plain": [
       "['F1', 'F2', 'F3', 'F4', 'F5', 'F6']"
      ]
     },
     "execution_count": 4,
     "metadata": {},
     "output_type": "execute_result"
    }
   ],
   "source": [
    "X_features=list(data.columns)\n",
    "X_features.remove('Class')\n",
    "X_features"
   ]
  },
  {
   "cell_type": "code",
   "execution_count": 14,
   "id": "136ed82f",
   "metadata": {},
   "outputs": [],
   "source": [
    "import statsmodels.api as sm\n",
    "Y=data.Class\n",
    "X=data[['F1', 'F2', 'F3', 'F4', 'F5', 'F6']]\n",
    "X=sm.add_constant(X)"
   ]
  },
  {
   "cell_type": "code",
   "execution_count": 17,
   "id": "70019a32",
   "metadata": {},
   "outputs": [],
   "source": [
    "from sklearn.model_selection import train_test_split\n",
    "X_train,X_test,y_train,y_test=train_test_split(X,Y,test_size=0.3,random_state=42)"
   ]
  },
  {
   "cell_type": "code",
   "execution_count": 26,
   "id": "3cf4e6db",
   "metadata": {},
   "outputs": [
    {
     "name": "stdout",
     "output_type": "stream",
     "text": [
      "Optimization terminated successfully.\n",
      "         Current function value: 0.604710\n",
      "         Iterations 6\n",
      "                           Logit Regression Results                           \n",
      "==============================================================================\n",
      "Dep. Variable:                  Class   No. Observations:                  241\n",
      "Model:                          Logit   Df Residuals:                      234\n",
      "Method:                           MLE   Df Model:                            6\n",
      "Date:                Mon, 25 Sep 2023   Pseudo R-squ.:                  0.1107\n",
      "Time:                        12:17:27   Log-Likelihood:                -145.74\n",
      "converged:                       True   LL-Null:                       -163.88\n",
      "Covariance Type:            nonrobust   LLR p-value:                 2.423e-06\n",
      "==============================================================================\n",
      "                 coef    std err          z      P>|z|      [0.025      0.975]\n",
      "------------------------------------------------------------------------------\n",
      "const          5.5581      2.995      1.856      0.064      -0.313      11.429\n",
      "F1            -0.0634      0.033     -1.913      0.056      -0.128       0.002\n",
      "F2            -0.0148      0.008     -1.758      0.079      -0.031       0.002\n",
      "F3            -0.0585      0.014     -4.191      0.000      -0.086      -0.031\n",
      "F4             0.1174      0.029      4.066      0.000       0.061       0.174\n",
      "F5             0.0199      0.007      3.060      0.002       0.007       0.033\n",
      "F6            -0.0762      0.048     -1.598      0.110      -0.170       0.017\n",
      "==============================================================================\n"
     ]
    }
   ],
   "source": [
    "\n",
    "logit_model = sm.Logit(y_train-1, X_train)\n",
    "logit_result = logit_model.fit()\n",
    "print(logit_result.summary())"
   ]
  },
  {
   "cell_type": "code",
   "execution_count": null,
   "id": "f36834ad",
   "metadata": {},
   "outputs": [],
   "source": []
  },
  {
   "cell_type": "code",
   "execution_count": null,
   "id": "5386d26c",
   "metadata": {},
   "outputs": [],
   "source": []
  }
 ],
 "metadata": {
  "kernelspec": {
   "display_name": "Python 3 (ipykernel)",
   "language": "python",
   "name": "python3"
  },
  "language_info": {
   "codemirror_mode": {
    "name": "ipython",
    "version": 3
   },
   "file_extension": ".py",
   "mimetype": "text/x-python",
   "name": "python",
   "nbconvert_exporter": "python",
   "pygments_lexer": "ipython3",
   "version": "3.11.3"
  }
 },
 "nbformat": 4,
 "nbformat_minor": 5
}
